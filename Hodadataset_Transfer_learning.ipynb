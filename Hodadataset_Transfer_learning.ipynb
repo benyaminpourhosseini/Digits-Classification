{
  "nbformat": 4,
  "nbformat_minor": 0,
  "metadata": {
    "kernelspec": {
      "display_name": "Python 3",
      "language": "python",
      "name": "python3"
    },
    "language_info": {
      "codemirror_mode": {
        "name": "ipython",
        "version": 3
      },
      "file_extension": ".py",
      "mimetype": "text/x-python",
      "name": "python",
      "nbconvert_exporter": "python",
      "pygments_lexer": "ipython3",
      "version": "3.7.9"
    },
    "colab": {
      "name": "Hodadataset_Transfer_learning.ipynb",
      "provenance": [],
      "collapsed_sections": [
        "_LlD7Ffevl7W",
        "Lo0Yz0Yuxn1_",
        "bjeMLePa9R7K",
        "jL6LzJQh9R7d",
        "0cIa9XwI9R7w",
        "7zrXLJaZ9R7z"
      ]
    },
    "accelerator": "GPU"
  },
  "cells": [
    {
      "cell_type": "markdown",
      "metadata": {
        "id": "_LlD7Ffevl7W"
      },
      "source": [
        "# load data"
      ]
    },
    {
      "cell_type": "code",
      "metadata": {
        "colab": {
          "base_uri": "https://localhost:8080/"
        },
        "id": "0ur_1BwtHAQU",
        "outputId": "97e6ef13-0109-4eaa-85ac-ffdcfe97e585"
      },
      "source": [
        "from google.colab import drive\n",
        "drive.mount('/content/gdrive')"
      ],
      "execution_count": null,
      "outputs": [
        {
          "output_type": "stream",
          "text": [
            "Drive already mounted at /content/gdrive; to attempt to forcibly remount, call drive.mount(\"/content/gdrive\", force_remount=True).\n"
          ],
          "name": "stdout"
        }
      ]
    },
    {
      "cell_type": "code",
      "metadata": {
        "colab": {
          "base_uri": "https://localhost:8080/"
        },
        "id": "PxSMdvGUK-oG",
        "outputId": "06b7c5c9-721e-4ee4-dfb1-06a48a579345"
      },
      "source": [
        "import os\n",
        "os.chdir('/content/gdrive/MyDrive/Kaggle')\n",
        "\n",
        "import os\n",
        "os.environ['KAGGLE_CONFIG_DIR'] = \"/content/gdrive/My Drive/Kaggle\"\n",
        "!pwd"
      ],
      "execution_count": null,
      "outputs": [
        {
          "output_type": "stream",
          "text": [
            "/content/gdrive/MyDrive/Kaggle\n"
          ],
          "name": "stdout"
        }
      ]
    },
    {
      "cell_type": "markdown",
      "metadata": {
        "id": "bD4hyUkPw28D"
      },
      "source": [
        "**Download Dataset**"
      ]
    },
    {
      "cell_type": "code",
      "metadata": {
        "id": "zQMOSOpiKLUN"
      },
      "source": [
        "#!kaggle datasets download -d hamedetezadi/persian-numbers"
      ],
      "execution_count": null,
      "outputs": []
    },
    {
      "cell_type": "code",
      "metadata": {
        "id": "FFUQYHO5Mgt1"
      },
      "source": [
        "#!unzip /content/gdrive/MyDrive/Kaggle/persian-numbers.zip"
      ],
      "execution_count": null,
      "outputs": []
    },
    {
      "cell_type": "markdown",
      "metadata": {
        "id": "Lo0Yz0Yuxn1_"
      },
      "source": [
        "#Import my madule to read dataset"
      ]
    },
    {
      "cell_type": "code",
      "metadata": {
        "id": "GLc3govQoJFS"
      },
      "source": [
        "import sys\n",
        "sys.path.insert(0,'/content/gdrive/My Drive/Kaggle')\n",
        "\n",
        "import HodaDatasetReader"
      ],
      "execution_count": null,
      "outputs": []
    },
    {
      "cell_type": "markdown",
      "metadata": {
        "id": "bjeMLePa9R7K"
      },
      "source": [
        "# Import madules"
      ]
    },
    {
      "cell_type": "code",
      "metadata": {
        "id": "Ql4_CKgg9R7a"
      },
      "source": [
        "import tensorflow as tf\n",
        "import numpy as np\n",
        "import pandas as pd\n",
        "import cv2\n",
        "import matplotlib.pyplot as plt\n",
        "from HodaDatasetReader import read_hoda_cdb, read_hoda_dataset\n",
        "from tensorflow.keras.utils import to_categorical\n",
        "%matplotlib inline"
      ],
      "execution_count": null,
      "outputs": []
    },
    {
      "cell_type": "markdown",
      "metadata": {
        "id": "jL6LzJQh9R7d"
      },
      "source": [
        "# Split train and test dataset\n"
      ]
    },
    {
      "cell_type": "markdown",
      "metadata": {
        "id": "PE68A7A96OFx"
      },
      "source": [
        "**%75 train - %25 test**"
      ]
    },
    {
      "cell_type": "code",
      "metadata": {
        "id": "Trrrv-hf9R7f"
      },
      "source": [
        "X_train, Y_train = read_hoda_cdb('/content/gdrive/MyDrive/Kaggle/Train 60000.cdb')\n",
        "X_test, Y_test = read_hoda_cdb('/content/gdrive/MyDrive/Kaggle/Test 20000.cdb')                                   "
      ],
      "execution_count": null,
      "outputs": []
    },
    {
      "cell_type": "code",
      "metadata": {
        "colab": {
          "base_uri": "https://localhost:8080/"
        },
        "id": "5P29onMc4jt3",
        "outputId": "408853b6-726e-4955-84cb-147ab875d73e"
      },
      "source": [
        "print('X_train check:')\n",
        "type(X_train[0]), X_train[0].dtype, X_train[0].shape"
      ],
      "execution_count": null,
      "outputs": [
        {
          "output_type": "stream",
          "text": [
            "X_train check:\n"
          ],
          "name": "stdout"
        },
        {
          "output_type": "execute_result",
          "data": {
            "text/plain": [
              "(numpy.ndarray, dtype('uint8'), (27, 20))"
            ]
          },
          "metadata": {
            "tags": []
          },
          "execution_count": 76
        }
      ]
    },
    {
      "cell_type": "code",
      "metadata": {
        "colab": {
          "base_uri": "https://localhost:8080/"
        },
        "id": "PMawrjPM7D52",
        "outputId": "709b2f3d-26fa-47b6-9adb-57ae8ac616ef"
      },
      "source": [
        "print('Y_train check:')\n",
        "print(type(Y_train[0]))\n",
        "print('Y_train[0]:',Y_train[0])"
      ],
      "execution_count": null,
      "outputs": [
        {
          "output_type": "stream",
          "text": [
            "Y_train check:\n",
            "<class 'int'>\n",
            "Y_train[0]: 6\n"
          ],
          "name": "stdout"
        }
      ]
    },
    {
      "cell_type": "markdown",
      "metadata": {
        "id": "M2kDtfdp9R7r"
      },
      "source": [
        "# Now  plot temp image"
      ]
    },
    {
      "cell_type": "code",
      "metadata": {
        "colab": {
          "base_uri": "https://localhost:8080/"
        },
        "id": "krj_aZlp9R7t",
        "outputId": "d35b95de-82c6-449a-a4c4-0939f29efef2"
      },
      "source": [
        "Y_train[-1]"
      ],
      "execution_count": null,
      "outputs": [
        {
          "output_type": "execute_result",
          "data": {
            "text/plain": [
              "6"
            ]
          },
          "metadata": {
            "tags": []
          },
          "execution_count": 78
        }
      ]
    },
    {
      "cell_type": "code",
      "metadata": {
        "scrolled": true,
        "colab": {
          "base_uri": "https://localhost:8080/"
        },
        "id": "7MN4H0Yn9R7t",
        "outputId": "fcea4e46-3f9d-42a3-ce1d-a8ebfde9f5d6"
      },
      "source": [
        "plt.imshow(X_train[-1])"
      ],
      "execution_count": null,
      "outputs": [
        {
          "output_type": "execute_result",
          "data": {
            "text/plain": [
              "<matplotlib.image.AxesImage at 0x7f965bcbd278>"
            ]
          },
          "metadata": {
            "tags": []
          },
          "execution_count": 79
        },
        {
          "output_type": "display_data",
          "data": {
            "image/png": "[encoded data removed]",
            "text/plain": [
              "<Figure size 432x288 with 1 Axes>"
            ]
          },
          "metadata": {
            "tags": [],
            "needs_background": "light"
          }
        }
      ]
    },
    {
      "cell_type": "markdown",
      "metadata": {
        "id": "0cIa9XwI9R7w"
      },
      "source": [
        "# Reshape data to shape(100,100) and Normalize data between(0,1) and float32 dtype"
      ]
    },
    {
      "cell_type": "code",
      "metadata": {
        "colab": {
          "base_uri": "https://localhost:8080/"
        },
        "id": "VjrfBX2iI42J",
        "outputId": "746bf259-da60-47cc-85ed-e717cae99018"
      },
      "source": [
        "X_train[0].shape, type(X_train), len(X_train)"
      ],
      "execution_count": null,
      "outputs": [
        {
          "output_type": "execute_result",
          "data": {
            "text/plain": [
              "((27, 20), list, 60000)"
            ]
          },
          "metadata": {
            "tags": []
          },
          "execution_count": 80
        }
      ]
    },
    {
      "cell_type": "code",
      "metadata": {
        "id": "m6B8MBgz9R7w"
      },
      "source": [
        "New_train = []\n",
        "New_test = []\n",
        "for image in X_train: \n",
        "  Z = cv2.resize(image, dsize=(100,100))\n",
        "  Z = Z.astype('float32')/255.0\n",
        "  Z.reshape(100,100,1)\n",
        "  New_train.append(Z)\n",
        "for image in X_test: \n",
        "  Z = cv2.resize(image, dsize=(100,100))\n",
        "  Z = Z.astype('float32')/255.0\n",
        "  Z.reshape(100,100,1)\n",
        "  New_test.append(Z)"
      ],
      "execution_count": null,
      "outputs": []
    },
    {
      "cell_type": "code",
      "metadata": {
        "colab": {
          "base_uri": "https://localhost:8080/"
        },
        "id": "-vPquPEwOZcT",
        "outputId": "0f6670f9-f83c-4904-abb1-344751d14596"
      },
      "source": [
        "type(New_train[-1]),type(New_test[-1]),New_train[-1].shape,New_test[-1].shape"
      ],
      "execution_count": null,
      "outputs": [
        {
          "output_type": "execute_result",
          "data": {
            "text/plain": [
              "(numpy.ndarray, numpy.ndarray, (100, 100), (100, 100))"
            ]
          },
          "metadata": {
            "tags": []
          },
          "execution_count": 82
        }
      ]
    },
    {
      "cell_type": "code",
      "metadata": {
        "colab": {
          "base_uri": "https://localhost:8080/"
        },
        "id": "d7-k6HrqUsaH",
        "outputId": "4cc7bc89-0c72-4876-9dc0-b8487ee77f8c"
      },
      "source": [
        "New_train[-1].dtype,New_train[-1].min(),New_train[-1].max()"
      ],
      "execution_count": null,
      "outputs": [
        {
          "output_type": "execute_result",
          "data": {
            "text/plain": [
              "(dtype('float32'), 0.0, 1.0)"
            ]
          },
          "metadata": {
            "tags": []
          },
          "execution_count": 83
        }
      ]
    },
    {
      "cell_type": "code",
      "metadata": {
        "id": "xZW3oN0HXABL"
      },
      "source": [
        "X_train = New_train.copy()\n",
        "X_test = New_test.copy()\n",
        "New_train.clear()\n",
        "New_test.clear()"
      ],
      "execution_count": null,
      "outputs": []
    },
    {
      "cell_type": "code",
      "metadata": {
        "colab": {
          "base_uri": "https://localhost:8080/"
        },
        "id": "8TlKe3GbXgpn",
        "outputId": "68acb4db-c29a-4d71-81d4-af0bb381d9cc"
      },
      "source": [
        "X_train[-1].dtype,X_train[-1].min(),X_train[-1].max()"
      ],
      "execution_count": null,
      "outputs": [
        {
          "output_type": "execute_result",
          "data": {
            "text/plain": [
              "(dtype('float32'), 0.0, 1.0)"
            ]
          },
          "metadata": {
            "tags": []
          },
          "execution_count": 85
        }
      ]
    },
    {
      "cell_type": "code",
      "metadata": {
        "colab": {
          "base_uri": "https://localhost:8080/"
        },
        "id": "CxwWh2GHLgsd",
        "outputId": "9e82705e-32a2-4832-a7d8-db8b48849ce3"
      },
      "source": [
        "plt.imshow(X_train[0])"
      ],
      "execution_count": null,
      "outputs": [
        {
          "output_type": "execute_result",
          "data": {
            "text/plain": [
              "<matplotlib.image.AxesImage at 0x7f965bd024e0>"
            ]
          },
          "metadata": {
            "tags": []
          },
          "execution_count": 86
        },
        {
          "output_type": "display_data",
          "data": {
            "image/png": "[encoded data removed]",
            "text/plain": [
              "<Figure size 432x288 with 1 Axes>"
            ]
          },
          "metadata": {
            "tags": [],
            "needs_background": "light"
          }
        }
      ]
    },
    {
      "cell_type": "markdown",
      "metadata": {
        "id": "7zrXLJaZ9R7z"
      },
      "source": [
        "# Convert labels to one-hot encoding\n"
      ]
    },
    {
      "cell_type": "code",
      "metadata": {
        "colab": {
          "base_uri": "https://localhost:8080/"
        },
        "id": "8Wxf24Y-jhz3",
        "outputId": "8240ee42-f359-46f0-bef2-45d839f54281"
      },
      "source": [
        "print('Y_train[0] = ',Y_train[0])"
      ],
      "execution_count": null,
      "outputs": [
        {
          "output_type": "stream",
          "text": [
            "Y_train[0] =  6\n"
          ],
          "name": "stdout"
        }
      ]
    },
    {
      "cell_type": "code",
      "metadata": {
        "id": "oe8VT1i29R71"
      },
      "source": [
        "Y_train = to_categorical(Y_train, num_classes=10)\n",
        "Y_test = to_categorical(Y_test, num_classes=10)"
      ],
      "execution_count": null,
      "outputs": []
    },
    {
      "cell_type": "code",
      "metadata": {
        "colab": {
          "base_uri": "https://localhost:8080/"
        },
        "id": "2dR67u-imvE3",
        "outputId": "709ff852-3397-40c6-ac2d-a51d3385014b"
      },
      "source": [
        "Y_train.shape, Y_train.dtype,Y_test.shape, Y_test.dtype"
      ],
      "execution_count": null,
      "outputs": [
        {
          "output_type": "execute_result",
          "data": {
            "text/plain": [
              "((60000, 10), dtype('float32'), (20000, 10), dtype('float32'))"
            ]
          },
          "metadata": {
            "tags": []
          },
          "execution_count": 89
        }
      ]
    },
    {
      "cell_type": "markdown",
      "metadata": {
        "id": "2zi_JlZd9R72"
      },
      "source": [
        "**now see new one-hot labels**"
      ]
    },
    {
      "cell_type": "code",
      "metadata": {
        "colab": {
          "base_uri": "https://localhost:8080/"
        },
        "id": "-mG9o-r_9R72",
        "outputId": "f895465e-3bc9-4f84-873b-a286c90da439"
      },
      "source": [
        "Y_train[0]"
      ],
      "execution_count": null,
      "outputs": [
        {
          "output_type": "execute_result",
          "data": {
            "text/plain": [
              "array([0., 0., 0., 0., 0., 0., 1., 0., 0., 0.], dtype=float32)"
            ]
          },
          "metadata": {
            "tags": []
          },
          "execution_count": 90
        }
      ]
    },
    {
      "cell_type": "markdown",
      "metadata": {
        "id": "gGj6Zl6_9R78"
      },
      "source": [
        "## last final check of all shapes"
      ]
    },
    {
      "cell_type": "code",
      "metadata": {
        "colab": {
          "base_uri": "https://localhost:8080/"
        },
        "id": "yvu1v7OxoIWy",
        "outputId": "36df1e33-3f5d-4407-f17a-33f1a1cb035d"
      },
      "source": [
        "X_train = (np.array(X_train))\n",
        "X_test = (np.array(X_test))\n",
        "X_train.shape,X_test.shape"
      ],
      "execution_count": null,
      "outputs": [
        {
          "output_type": "execute_result",
          "data": {
            "text/plain": [
              "((60000, 100, 100), (20000, 100, 100))"
            ]
          },
          "metadata": {
            "tags": []
          },
          "execution_count": 91
        }
      ]
    },
    {
      "cell_type": "code",
      "metadata": {
        "colab": {
          "base_uri": "https://localhost:8080/"
        },
        "id": "vL2LKuzl9R78",
        "outputId": "fedd20b6-6cc7-4614-b54a-85836a9c7019"
      },
      "source": [
        "X_train.shape, Y_train.shape, X_test.shape, Y_test.shape"
      ],
      "execution_count": null,
      "outputs": [
        {
          "output_type": "execute_result",
          "data": {
            "text/plain": [
              "((60000, 100, 100), (60000, 10), (20000, 100, 100), (20000, 10))"
            ]
          },
          "metadata": {
            "tags": []
          },
          "execution_count": 92
        }
      ]
    },
    {
      "cell_type": "markdown",
      "metadata": {
        "id": "aXPzQAZj9R79"
      },
      "source": [
        "# Import pre-trained model"
      ]
    },
    {
      "cell_type": "code",
      "metadata": {
        "id": "tjI-daJN9R7_"
      },
      "source": [
        "from tensorflow.keras.applications import VGG16\n",
        "from tensorflow.keras.layers import Dense, GlobalAveragePooling2D\n",
        "from tensorflow.keras.models import Model\n",
        "from tensorflow.keras.layers import Softmax, ReLU\n",
        "from tensorflow.keras.optimizers import Adam"
      ],
      "execution_count": null,
      "outputs": []
    },
    {
      "cell_type": "markdown",
      "metadata": {
        "id": "nM10wYdtPVWx"
      },
      "source": [
        "#Preprocess_input"
      ]
    },
    {
      "cell_type": "markdown",
      "metadata": {
        "id": "Q-siQOcsuILZ"
      },
      "source": [
        "**we use a portion of data**"
      ]
    },
    {
      "cell_type": "code",
      "metadata": {
        "id": "vbQLZ3htZFwb"
      },
      "source": [
        "X_train = X_train[:15000]\n",
        "Y_train = Y_train[:15000]"
      ],
      "execution_count": null,
      "outputs": []
    },
    {
      "cell_type": "code",
      "metadata": {
        "id": "8ajc4tCtCmVM"
      },
      "source": [
        "from sklearn.utils import shuffle\n",
        "X_test, Y_test = shuffle(X_test, Y_test, random_state=0)"
      ],
      "execution_count": null,
      "outputs": []
    },
    {
      "cell_type": "code",
      "metadata": {
        "id": "3hb4bs1IFMXH"
      },
      "source": [
        "X_test = X_test[:5000]\n",
        "Y_test = Y_test[:5000]"
      ],
      "execution_count": null,
      "outputs": []
    },
    {
      "cell_type": "code",
      "metadata": {
        "id": "BRJ7Q8B-wjq-"
      },
      "source": [
        "New_train = []\n",
        "for grey_img in X_train:\n",
        "  rgb_img = cv2.cvtColor(grey_img,cv2.COLOR_GRAY2RGB)\n",
        "  New_train.append(rgb_img) "
      ],
      "execution_count": null,
      "outputs": []
    },
    {
      "cell_type": "code",
      "metadata": {
        "id": "2jZsyyl2pEwy"
      },
      "source": [
        "New_test = []\n",
        "for grey_img in X_test:\n",
        "  rgb_img = cv2.cvtColor(grey_img,cv2.COLOR_GRAY2RGB)\n",
        "  New_test.append(rgb_img) "
      ],
      "execution_count": null,
      "outputs": []
    },
    {
      "cell_type": "code",
      "metadata": {
        "id": "mAe06x1RbwNn"
      },
      "source": [
        "X_train = np.array(New_train)\n",
        "X_test = np.array(New_test)\n",
        "New_train.clear()\n",
        "New_test.clear()"
      ],
      "execution_count": null,
      "outputs": []
    },
    {
      "cell_type": "code",
      "metadata": {
        "colab": {
          "base_uri": "https://localhost:8080/"
        },
        "id": "Pz41w-KxxQ8a",
        "outputId": "9ceac963-c9be-4803-bdf6-c5d8c08715bf"
      },
      "source": [
        "X_train.shape,X_test.shape"
      ],
      "execution_count": null,
      "outputs": [
        {
          "output_type": "execute_result",
          "data": {
            "text/plain": [
              "((15000, 100, 100, 3), (5000, 100, 100, 3))"
            ]
          },
          "metadata": {
            "tags": []
          },
          "execution_count": 101
        }
      ]
    },
    {
      "cell_type": "markdown",
      "metadata": {
        "id": "4jiwh0ka9R7_"
      },
      "source": [
        "#Create a VGG16 model "
      ]
    },
    {
      "cell_type": "code",
      "metadata": {
        "id": "d9LaECI0E3Ma"
      },
      "source": [
        "base_model = VGG16(weights='imagenet',include_top=False)"
      ],
      "execution_count": null,
      "outputs": []
    },
    {
      "cell_type": "code",
      "metadata": {
        "colab": {
          "base_uri": "https://localhost:8080/"
        },
        "id": "CKpwQmKdGfcA",
        "outputId": "61371650-ea2d-4833-e8c5-75d232a5d8e1"
      },
      "source": [
        "base_model.summary()"
      ],
      "execution_count": null,
      "outputs": [
        {
          "output_type": "stream",
          "text": [
            "Model: \"vgg16\"\n",
            "_________________________________________________________________\n",
            "Layer (type)                 Output Shape              Param #   \n",
            "=================================================================\n",
            "input_2 (InputLayer)         [(None, None, None, 3)]   0         \n",
            "_________________________________________________________________\n",
            "block1_conv1 (Conv2D)        (None, None, None, 64)    1792      \n",
            "_________________________________________________________________\n",
            "block1_conv2 (Conv2D)        (None, None, None, 64)    36928     \n",
            "_________________________________________________________________\n",
            "block1_pool (MaxPooling2D)   (None, None, None, 64)    0         \n",
            "_________________________________________________________________\n",
            "block2_conv1 (Conv2D)        (None, None, None, 128)   73856     \n",
            "_________________________________________________________________\n",
            "block2_conv2 (Conv2D)        (None, None, None, 128)   147584    \n",
            "_________________________________________________________________\n",
            "block2_pool (MaxPooling2D)   (None, None, None, 128)   0         \n",
            "_________________________________________________________________\n",
            "block3_conv1 (Conv2D)        (None, None, None, 256)   295168    \n",
            "_________________________________________________________________\n",
            "block3_conv2 (Conv2D)        (None, None, None, 256)   590080    \n",
            "_________________________________________________________________\n",
            "block3_conv3 (Conv2D)        (None, None, None, 256)   590080    \n",
            "_________________________________________________________________\n",
            "block3_pool (MaxPooling2D)   (None, None, None, 256)   0         \n",
            "_________________________________________________________________\n",
            "block4_conv1 (Conv2D)        (None, None, None, 512)   1180160   \n",
            "_________________________________________________________________\n",
            "block4_conv2 (Conv2D)        (None, None, None, 512)   2359808   \n",
            "_________________________________________________________________\n",
            "block4_conv3 (Conv2D)        (None, None, None, 512)   2359808   \n",
            "_________________________________________________________________\n",
            "block4_pool (MaxPooling2D)   (None, None, None, 512)   0         \n",
            "_________________________________________________________________\n",
            "block5_conv1 (Conv2D)        (None, None, None, 512)   2359808   \n",
            "_________________________________________________________________\n",
            "block5_conv2 (Conv2D)        (None, None, None, 512)   2359808   \n",
            "_________________________________________________________________\n",
            "block5_conv3 (Conv2D)        (None, None, None, 512)   2359808   \n",
            "_________________________________________________________________\n",
            "block5_pool (MaxPooling2D)   (None, None, None, 512)   0         \n",
            "=================================================================\n",
            "Total params: 14,714,688\n",
            "Trainable params: 14,714,688\n",
            "Non-trainable params: 0\n",
            "_________________________________________________________________\n"
          ],
          "name": "stdout"
        }
      ]
    },
    {
      "cell_type": "code",
      "metadata": {
        "id": "kfsOUESDIgXk"
      },
      "source": [
        "for layer in base_model.layers[:-2]:\n",
        "  layer.trainable = False"
      ],
      "execution_count": null,
      "outputs": []
    },
    {
      "cell_type": "code",
      "metadata": {
        "colab": {
          "base_uri": "https://localhost:8080/"
        },
        "id": "oSrcrY3aIxxk",
        "outputId": "8ec983a2-d87b-4f5c-9d10-8403a85e5cc1"
      },
      "source": [
        "base_model.summary()"
      ],
      "execution_count": null,
      "outputs": [
        {
          "output_type": "stream",
          "text": [
            "Model: \"vgg16\"\n",
            "_________________________________________________________________\n",
            "Layer (type)                 Output Shape              Param #   \n",
            "=================================================================\n",
            "input_2 (InputLayer)         [(None, None, None, 3)]   0         \n",
            "_________________________________________________________________\n",
            "block1_conv1 (Conv2D)        (None, None, None, 64)    1792      \n",
            "_________________________________________________________________\n",
            "block1_conv2 (Conv2D)        (None, None, None, 64)    36928     \n",
            "_________________________________________________________________\n",
            "block1_pool (MaxPooling2D)   (None, None, None, 64)    0         \n",
            "_________________________________________________________________\n",
            "block2_conv1 (Conv2D)        (None, None, None, 128)   73856     \n",
            "_________________________________________________________________\n",
            "block2_conv2 (Conv2D)        (None, None, None, 128)   147584    \n",
            "_________________________________________________________________\n",
            "block2_pool (MaxPooling2D)   (None, None, None, 128)   0         \n",
            "_________________________________________________________________\n",
            "block3_conv1 (Conv2D)        (None, None, None, 256)   295168    \n",
            "_________________________________________________________________\n",
            "block3_conv2 (Conv2D)        (None, None, None, 256)   590080    \n",
            "_________________________________________________________________\n",
            "block3_conv3 (Conv2D)        (None, None, None, 256)   590080    \n",
            "_________________________________________________________________\n",
            "block3_pool (MaxPooling2D)   (None, None, None, 256)   0         \n",
            "_________________________________________________________________\n",
            "block4_conv1 (Conv2D)        (None, None, None, 512)   1180160   \n",
            "_________________________________________________________________\n",
            "block4_conv2 (Conv2D)        (None, None, None, 512)   2359808   \n",
            "_________________________________________________________________\n",
            "block4_conv3 (Conv2D)        (None, None, None, 512)   2359808   \n",
            "_________________________________________________________________\n",
            "block4_pool (MaxPooling2D)   (None, None, None, 512)   0         \n",
            "_________________________________________________________________\n",
            "block5_conv1 (Conv2D)        (None, None, None, 512)   2359808   \n",
            "_________________________________________________________________\n",
            "block5_conv2 (Conv2D)        (None, None, None, 512)   2359808   \n",
            "_________________________________________________________________\n",
            "block5_conv3 (Conv2D)        (None, None, None, 512)   2359808   \n",
            "_________________________________________________________________\n",
            "block5_pool (MaxPooling2D)   (None, None, None, 512)   0         \n",
            "=================================================================\n",
            "Total params: 14,714,688\n",
            "Trainable params: 2,359,808\n",
            "Non-trainable params: 12,354,880\n",
            "_________________________________________________________________\n"
          ],
          "name": "stdout"
        }
      ]
    },
    {
      "cell_type": "markdown",
      "metadata": {
        "id": "g8qC6_NzJwRm"
      },
      "source": [
        "**Create my own model**"
      ]
    },
    {
      "cell_type": "code",
      "metadata": {
        "id": "gZevBz-ZKhw2"
      },
      "source": [
        "x = GlobalAveragePooling2D()(base_model.output)\n",
        "x = Dense(units =512, activation='relu')(x)\n",
        "x = Dense(units =128, activation='relu')(x)\n",
        "predictions = Dense(units =10, activation='softmax')(x)\n",
        "\n",
        "fine_tune_model = Model(base_model.input,predictions)"
      ],
      "execution_count": null,
      "outputs": []
    },
    {
      "cell_type": "code",
      "metadata": {
        "colab": {
          "base_uri": "https://localhost:8080/"
        },
        "id": "0PLK6hvm0cx1",
        "outputId": "eea2e15a-8e41-4777-d235-967876115921"
      },
      "source": [
        "fine_tune_model.summary()"
      ],
      "execution_count": null,
      "outputs": [
        {
          "output_type": "stream",
          "text": [
            "Model: \"model_1\"\n",
            "_________________________________________________________________\n",
            "Layer (type)                 Output Shape              Param #   \n",
            "=================================================================\n",
            "input_2 (InputLayer)         [(None, None, None, 3)]   0         \n",
            "_________________________________________________________________\n",
            "block1_conv1 (Conv2D)        (None, None, None, 64)    1792      \n",
            "_________________________________________________________________\n",
            "block1_conv2 (Conv2D)        (None, None, None, 64)    36928     \n",
            "_________________________________________________________________\n",
            "block1_pool (MaxPooling2D)   (None, None, None, 64)    0         \n",
            "_________________________________________________________________\n",
            "block2_conv1 (Conv2D)        (None, None, None, 128)   73856     \n",
            "_________________________________________________________________\n",
            "block2_conv2 (Conv2D)        (None, None, None, 128)   147584    \n",
            "_________________________________________________________________\n",
            "block2_pool (MaxPooling2D)   (None, None, None, 128)   0         \n",
            "_________________________________________________________________\n",
            "block3_conv1 (Conv2D)        (None, None, None, 256)   295168    \n",
            "_________________________________________________________________\n",
            "block3_conv2 (Conv2D)        (None, None, None, 256)   590080    \n",
            "_________________________________________________________________\n",
            "block3_conv3 (Conv2D)        (None, None, None, 256)   590080    \n",
            "_________________________________________________________________\n",
            "block3_pool (MaxPooling2D)   (None, None, None, 256)   0         \n",
            "_________________________________________________________________\n",
            "block4_conv1 (Conv2D)        (None, None, None, 512)   1180160   \n",
            "_________________________________________________________________\n",
            "block4_conv2 (Conv2D)        (None, None, None, 512)   2359808   \n",
            "_________________________________________________________________\n",
            "block4_conv3 (Conv2D)        (None, None, None, 512)   2359808   \n",
            "_________________________________________________________________\n",
            "block4_pool (MaxPooling2D)   (None, None, None, 512)   0         \n",
            "_________________________________________________________________\n",
            "block5_conv1 (Conv2D)        (None, None, None, 512)   2359808   \n",
            "_________________________________________________________________\n",
            "block5_conv2 (Conv2D)        (None, None, None, 512)   2359808   \n",
            "_________________________________________________________________\n",
            "block5_conv3 (Conv2D)        (None, None, None, 512)   2359808   \n",
            "_________________________________________________________________\n",
            "block5_pool (MaxPooling2D)   (None, None, None, 512)   0         \n",
            "_________________________________________________________________\n",
            "global_average_pooling2d_1 ( (None, 512)               0         \n",
            "_________________________________________________________________\n",
            "dense_3 (Dense)              (None, 512)               262656    \n",
            "_________________________________________________________________\n",
            "dense_4 (Dense)              (None, 128)               65664     \n",
            "_________________________________________________________________\n",
            "dense_5 (Dense)              (None, 10)                1290      \n",
            "=================================================================\n",
            "Total params: 15,044,298\n",
            "Trainable params: 2,689,418\n",
            "Non-trainable params: 12,354,880\n",
            "_________________________________________________________________\n"
          ],
          "name": "stdout"
        }
      ]
    },
    {
      "cell_type": "markdown",
      "metadata": {
        "id": "Ibm3QTsD9R8B"
      },
      "source": [
        "# Compile the model and Fit model to data\n"
      ]
    },
    {
      "cell_type": "code",
      "metadata": {
        "id": "lgM9nK41Np-A"
      },
      "source": [
        "np.random.seed(1)"
      ],
      "execution_count": null,
      "outputs": []
    },
    {
      "cell_type": "code",
      "metadata": {
        "id": "KTemIYQ09R8D"
      },
      "source": [
        "fine_tune_model.compile(optimizer=Adam(learning_rate=0.001),loss='categorical_crossentropy',metrics=['accuracy'])"
      ],
      "execution_count": null,
      "outputs": []
    },
    {
      "cell_type": "code",
      "metadata": {
        "colab": {
          "base_uri": "https://localhost:8080/"
        },
        "id": "Gk3h7e239R8E",
        "outputId": "e3a9784c-ad8f-4a2d-a1d2-921b068e4a51"
      },
      "source": [
        "fine_tune_model.fit(x=X_train, y=Y_train, batch_size=32, epochs=10, shuffle=True, validation_split=0.15, verbose=1) "
      ],
      "execution_count": null,
      "outputs": [
        {
          "output_type": "stream",
          "text": [
            "Epoch 1/10\n",
            "399/399 [==============================] - 16s 39ms/step - loss: 0.3479 - accuracy: 0.8837 - val_loss: 0.0445 - val_accuracy: 0.9867\n",
            "Epoch 2/10\n",
            "399/399 [==============================] - 15s 38ms/step - loss: 0.0306 - accuracy: 0.9910 - val_loss: 0.0523 - val_accuracy: 0.9876\n",
            "Epoch 3/10\n",
            "399/399 [==============================] - 15s 39ms/step - loss: 0.0242 - accuracy: 0.9915 - val_loss: 0.0665 - val_accuracy: 0.9849\n",
            "Epoch 4/10\n",
            "399/399 [==============================] - 16s 39ms/step - loss: 0.0202 - accuracy: 0.9927 - val_loss: 0.0437 - val_accuracy: 0.9902\n",
            "Epoch 5/10\n",
            "399/399 [==============================] - 16s 39ms/step - loss: 0.0104 - accuracy: 0.9974 - val_loss: 0.0587 - val_accuracy: 0.9876\n",
            "Epoch 6/10\n",
            "399/399 [==============================] - 16s 40ms/step - loss: 0.0059 - accuracy: 0.9979 - val_loss: 0.0496 - val_accuracy: 0.9898\n",
            "Epoch 7/10\n",
            "399/399 [==============================] - 16s 41ms/step - loss: 0.0089 - accuracy: 0.9978 - val_loss: 0.0565 - val_accuracy: 0.9889\n",
            "Epoch 8/10\n",
            "399/399 [==============================] - 16s 41ms/step - loss: 0.0050 - accuracy: 0.9989 - val_loss: 0.0497 - val_accuracy: 0.9911\n",
            "Epoch 9/10\n",
            "399/399 [==============================] - 16s 41ms/step - loss: 0.0049 - accuracy: 0.9985 - val_loss: 0.0536 - val_accuracy: 0.9907\n",
            "Epoch 10/10\n",
            "399/399 [==============================] - 16s 41ms/step - loss: 0.0086 - accuracy: 0.9971 - val_loss: 0.0518 - val_accuracy: 0.9889\n"
          ],
          "name": "stdout"
        },
        {
          "output_type": "execute_result",
          "data": {
            "text/plain": [
              "<tensorflow.python.keras.callbacks.History at 0x7f965c236550>"
            ]
          },
          "metadata": {
            "tags": []
          },
          "execution_count": 110
        }
      ]
    },
    {
      "cell_type": "markdown",
      "metadata": {
        "id": "vOWwY1Gc9R8F"
      },
      "source": [
        "### plot model loss history"
      ]
    },
    {
      "cell_type": "code",
      "metadata": {
        "id": "EjptqpSH9R8F"
      },
      "source": [
        "model_loss_history = pd.DataFrame({'loss': fine_tune_model.history.history['loss'],\n",
        "                                   'val_loss': fine_tune_model.history.history['val_loss']})"
      ],
      "execution_count": null,
      "outputs": []
    },
    {
      "cell_type": "code",
      "metadata": {
        "colab": {
          "base_uri": "https://localhost:8080/",
          "height": 283
        },
        "id": "mQXxj-0g9R8F",
        "outputId": "0dd421f6-527a-4de9-92df-a9dd5bf935a8"
      },
      "source": [
        "model_loss_history.plot()"
      ],
      "execution_count": null,
      "outputs": [
        {
          "output_type": "execute_result",
          "data": {
            "text/plain": [
              "<matplotlib.axes._subplots.AxesSubplot at 0x7f965c107320>"
            ]
          },
          "metadata": {
            "tags": []
          },
          "execution_count": 112
        },
        {
          "output_type": "display_data",
          "data": {
            "image/png": "[encoded data removed]",
            "text/plain": [
              "<Figure size 432x288 with 1 Axes>"
            ]
          },
          "metadata": {
            "tags": [],
            "needs_background": "light"
          }
        }
      ]
    },
    {
      "cell_type": "markdown",
      "metadata": {
        "id": "-acvNYNu9R8G"
      },
      "source": [
        "**min of validation loss**"
      ]
    },
    {
      "cell_type": "code",
      "metadata": {
        "scrolled": true,
        "colab": {
          "base_uri": "https://localhost:8080/"
        },
        "id": "udY-gXOB9R8H",
        "outputId": "ff8b5cf7-9ade-4997-83b3-5fa7aedae8d5"
      },
      "source": [
        "min_val_loss=model_loss_history['val_loss'].min()\n",
        "min_train_loss=model_loss_history['loss'].min()\n",
        "\n",
        "print('min_val_loss:',min_val_loss)\n",
        "print('min_train_loss:',min_train_loss)"
      ],
      "execution_count": null,
      "outputs": [
        {
          "output_type": "stream",
          "text": [
            "min_val_loss: 0.04365584999322891\n",
            "min_train_loss: 0.0045625693164765835\n"
          ],
          "name": "stdout"
        }
      ]
    },
    {
      "cell_type": "markdown",
      "metadata": {
        "id": "LoV93CiE9R8H"
      },
      "source": [
        "### plot model accuracy history"
      ]
    },
    {
      "cell_type": "code",
      "metadata": {
        "id": "AQ8xpn0d9R8I"
      },
      "source": [
        "model_accuracy_history = pd.DataFrame({'accuracy': fine_tune_model.history.history['accuracy'],\n",
        "                                       'val_accuracy': fine_tune_model.history.history['val_accuracy']} )"
      ],
      "execution_count": null,
      "outputs": []
    },
    {
      "cell_type": "code",
      "metadata": {
        "colab": {
          "base_uri": "https://localhost:8080/",
          "height": 284
        },
        "id": "O5mOeSvK9R8I",
        "outputId": "abe5160a-0445-4fe8-e8f2-990a87c6f731"
      },
      "source": [
        "model_accuracy_history.plot()"
      ],
      "execution_count": null,
      "outputs": [
        {
          "output_type": "execute_result",
          "data": {
            "text/plain": [
              "<matplotlib.axes._subplots.AxesSubplot at 0x7f965c1ce9e8>"
            ]
          },
          "metadata": {
            "tags": []
          },
          "execution_count": 115
        },
        {
          "output_type": "display_data",
          "data": {
            "image/png": "[encoded data removed]",
            "text/plain": [
              "<Figure size 432x288 with 1 Axes>"
            ]
          },
          "metadata": {
            "tags": [],
            "needs_background": "light"
          }
        }
      ]
    },
    {
      "cell_type": "markdown",
      "metadata": {
        "id": "v6PfcpOW9R8J"
      },
      "source": [
        "**max of validation accuracy**"
      ]
    },
    {
      "cell_type": "code",
      "metadata": {
        "colab": {
          "base_uri": "https://localhost:8080/"
        },
        "id": "KpEZA93w9R8J",
        "outputId": "00fd153f-d16a-4927-cd01-434a72f6b331"
      },
      "source": [
        "max_val_acc = model_accuracy_history['val_accuracy'].max()\n",
        "print('max_val_acc:',max_val_acc)"
      ],
      "execution_count": null,
      "outputs": [
        {
          "output_type": "stream",
          "text": [
            "max_val_acc: 0.9911110997200012\n"
          ],
          "name": "stdout"
        }
      ]
    },
    {
      "cell_type": "markdown",
      "metadata": {
        "id": "VlxNNcmS9R8K"
      },
      "source": [
        "# Evaluate the model"
      ]
    },
    {
      "cell_type": "code",
      "metadata": {
        "colab": {
          "base_uri": "https://localhost:8080/"
        },
        "id": "IBPgvh1p9R8K",
        "outputId": "4befb5fb-826b-4d84-f842-65adff860e97"
      },
      "source": [
        "fine_tune_model.evaluate(x=X_test, y=Y_test)"
      ],
      "execution_count": null,
      "outputs": [
        {
          "output_type": "stream",
          "text": [
            "157/157 [==============================] - 5s 32ms/step - loss: 0.0454 - accuracy: 0.9892\n"
          ],
          "name": "stdout"
        },
        {
          "output_type": "execute_result",
          "data": {
            "text/plain": [
              "[0.045415908098220825, 0.9891999959945679]"
            ]
          },
          "metadata": {
            "tags": []
          },
          "execution_count": 117
        }
      ]
    },
    {
      "cell_type": "code",
      "metadata": {
        "id": "iOQUDHGBfnhY"
      },
      "source": [
        "predict=fine_tune_model.predict(x=X_test)\n",
        "predict = np.argmax(predict,axis=-1)\n",
        "predict = to_categorical(predict, num_classes=10)"
      ],
      "execution_count": null,
      "outputs": []
    },
    {
      "cell_type": "code",
      "metadata": {
        "id": "_twQ_Iitc_N0"
      },
      "source": [
        "from sklearn.metrics import classification_report \n",
        "report = classification_report(y_true=Y_test, y_pred=predict, digits=4)"
      ],
      "execution_count": null,
      "outputs": []
    },
    {
      "cell_type": "code",
      "metadata": {
        "colab": {
          "base_uri": "https://localhost:8080/"
        },
        "id": "med9ySwtiKKb",
        "outputId": "3d99e170-646d-495a-dced-54e58ab36075"
      },
      "source": [
        "print(report)"
      ],
      "execution_count": null,
      "outputs": [
        {
          "output_type": "stream",
          "text": [
            "              precision    recall  f1-score   support\n",
            "\n",
            "           0     0.9958    0.9835    0.9896       486\n",
            "           1     0.9980    0.9980    0.9980       489\n",
            "           2     0.9878    0.9818    0.9848       494\n",
            "           3     0.9680    0.9847    0.9763       523\n",
            "           4     0.9874    0.9732    0.9803       485\n",
            "           5     0.9834    0.9979    0.9906       475\n",
            "           6     0.9883    0.9903    0.9893       513\n",
            "           7     0.9961    0.9922    0.9941       510\n",
            "           8     0.9962    1.0000    0.9981       531\n",
            "           9     0.9919    0.9899    0.9909       494\n",
            "\n",
            "   micro avg     0.9892    0.9892    0.9892      5000\n",
            "   macro avg     0.9893    0.9891    0.9892      5000\n",
            "weighted avg     0.9893    0.9892    0.9892      5000\n",
            " samples avg     0.9892    0.9892    0.9892      5000\n",
            "\n"
          ],
          "name": "stdout"
        }
      ]
    }
  ]
}