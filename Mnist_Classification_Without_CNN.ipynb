{
  "nbformat": 4,
  "nbformat_minor": 0,
  "metadata": {
    "colab": {
      "name": "Mnist Classification Without CNN.ipynb",
      "provenance": [],
      "collapsed_sections": [
        "-UrNKYH4CVcJ",
        "17hgCGpUCYm6",
        "PR4JrFWXDnbf",
        "14iAfttRHUhS",
        "xC2iIJMhMkv9"
      ]
    },
    "kernelspec": {
      "name": "python3",
      "display_name": "Python 3"
    },
    "accelerator": "GPU"
  },
  "cells": [
    {
      "cell_type": "code",
      "metadata": {
        "id": "o3ctf9lpvUeX"
      },
      "source": [
        "import tensorflow as tf\n",
        "import numpy as np\n",
        "import pandas as pd\n",
        "import matplotlib.pyplot as plt\n",
        "%matplotlib inline"
      ],
      "execution_count": null,
      "outputs": []
    },
    {
      "cell_type": "markdown",
      "metadata": {
        "id": "-UrNKYH4CVcJ"
      },
      "source": [
        "#Load data"
      ]
    },
    {
      "cell_type": "code",
      "metadata": {
        "colab": {
          "base_uri": "https://localhost:8080/"
        },
        "id": "OBtHWMVFB586",
        "outputId": "3bf115c7-cf01-48f1-baee-bea81da5330b"
      },
      "source": [
        "(train_data,train_labels),(test_data,test_labels)=tf.keras.datasets.mnist.load_data()"
      ],
      "execution_count": null,
      "outputs": [
        {
          "output_type": "stream",
          "text": [
            "Downloading data from https://storage.googleapis.com/tensorflow/tf-keras-datasets/mnist.npz\n",
            "11493376/11490434 [==============================] - 0s 0us/step\n"
          ],
          "name": "stdout"
        }
      ]
    },
    {
      "cell_type": "markdown",
      "metadata": {
        "id": "17hgCGpUCYm6"
      },
      "source": [
        "#check shape and type and dtype"
      ]
    },
    {
      "cell_type": "code",
      "metadata": {
        "colab": {
          "base_uri": "https://localhost:8080/"
        },
        "id": "xex2r-CkCkyw",
        "outputId": "1ba4a6cb-bf36-4da0-af4c-c8a796184cd6"
      },
      "source": [
        "train_data.shape, train_data.dtype, type(train_data)"
      ],
      "execution_count": null,
      "outputs": [
        {
          "output_type": "execute_result",
          "data": {
            "text/plain": [
              "((60000, 28, 28), dtype('uint8'), numpy.ndarray)"
            ]
          },
          "metadata": {
            "tags": []
          },
          "execution_count": 7
        }
      ]
    },
    {
      "cell_type": "code",
      "metadata": {
        "colab": {
          "base_uri": "https://localhost:8080/"
        },
        "id": "MygIy0zOC0Pc",
        "outputId": "2dbf724f-006a-43a4-e389-3fdbb2d491f7"
      },
      "source": [
        "train_labels.shape, train_labels.dtype, type(train_labels)"
      ],
      "execution_count": null,
      "outputs": [
        {
          "output_type": "execute_result",
          "data": {
            "text/plain": [
              "((60000,), dtype('uint8'), numpy.ndarray)"
            ]
          },
          "metadata": {
            "tags": []
          },
          "execution_count": 8
        }
      ]
    },
    {
      "cell_type": "code",
      "metadata": {
        "colab": {
          "base_uri": "https://localhost:8080/"
        },
        "id": "Oi1s2X9JDEUL",
        "outputId": "1edb3e08-f96d-42d1-97de-307b6d31fd55"
      },
      "source": [
        "test_data.shape, test_data.dtype, type(test_data)"
      ],
      "execution_count": null,
      "outputs": [
        {
          "output_type": "execute_result",
          "data": {
            "text/plain": [
              "((10000, 28, 28), dtype('uint8'), numpy.ndarray)"
            ]
          },
          "metadata": {
            "tags": []
          },
          "execution_count": 9
        }
      ]
    },
    {
      "cell_type": "code",
      "metadata": {
        "colab": {
          "base_uri": "https://localhost:8080/"
        },
        "id": "Uizb-PhVDEBj",
        "outputId": "384bef26-4457-4298-94b5-ac95bfbfde94"
      },
      "source": [
        "test_labels.shape, test_labels.dtype, type(test_labels)"
      ],
      "execution_count": null,
      "outputs": [
        {
          "output_type": "execute_result",
          "data": {
            "text/plain": [
              "((10000,), dtype('uint8'), numpy.ndarray)"
            ]
          },
          "metadata": {
            "tags": []
          },
          "execution_count": 10
        }
      ]
    },
    {
      "cell_type": "code",
      "metadata": {
        "colab": {
          "base_uri": "https://localhost:8080/",
          "height": 282
        },
        "id": "ZzoHSZBjECPn",
        "outputId": "82f01723-9638-436a-ece5-91be58d9ee2c"
      },
      "source": [
        "plt.imshow(train_data[-1])"
      ],
      "execution_count": null,
      "outputs": [
        {
          "output_type": "execute_result",
          "data": {
            "text/plain": [
              "<matplotlib.image.AxesImage at 0x7fcad0052ac8>"
            ]
          },
          "metadata": {
            "tags": []
          },
          "execution_count": 11
        },
        {
          "output_type": "display_data",
          "data": {
            "image/png": "[encoded data removed]",
            "text/plain": [
              "<Figure size 432x288 with 1 Axes>"
            ]
          },
          "metadata": {
            "tags": [],
            "needs_background": "light"
          }
        }
      ]
    },
    {
      "cell_type": "code",
      "metadata": {
        "colab": {
          "base_uri": "https://localhost:8080/"
        },
        "id": "yK3qcf1UEB6R",
        "outputId": "b34dd062-fc5b-43f5-c270-a92130d932a6"
      },
      "source": [
        "train_labels[-1]"
      ],
      "execution_count": null,
      "outputs": [
        {
          "output_type": "execute_result",
          "data": {
            "text/plain": [
              "8"
            ]
          },
          "metadata": {
            "tags": []
          },
          "execution_count": 13
        }
      ]
    },
    {
      "cell_type": "markdown",
      "metadata": {
        "id": "ZKg_l_ViDCeH"
      },
      "source": [
        ""
      ]
    },
    {
      "cell_type": "markdown",
      "metadata": {
        "id": "PR4JrFWXDnbf"
      },
      "source": [
        "#reshape "
      ]
    },
    {
      "cell_type": "code",
      "metadata": {
        "colab": {
          "base_uri": "https://localhost:8080/"
        },
        "id": "vByONJ71DsrR",
        "outputId": "a0d3b3d8-4c65-40e9-8961-615d17942a98"
      },
      "source": [
        "train_data = np.reshape(train_data, (-1, 28*28))\n",
        "train_labels = np.reshape(train_labels, (-1, 1))\n",
        "\n",
        "train_data.shape, train_labels.shape"
      ],
      "execution_count": null,
      "outputs": [
        {
          "output_type": "execute_result",
          "data": {
            "text/plain": [
              "((60000, 784), (60000, 1))"
            ]
          },
          "metadata": {
            "tags": []
          },
          "execution_count": 15
        }
      ]
    },
    {
      "cell_type": "code",
      "metadata": {
        "colab": {
          "base_uri": "https://localhost:8080/"
        },
        "id": "b303zJ30G1YJ",
        "outputId": "ca1c5bcf-ce69-4d07-cadf-1f5111fa33e5"
      },
      "source": [
        "test_data = np.reshape(test_data,(-1, 28*28 ))\n",
        "test_labels = np.reshape(test_labels, (-1, 1))\n",
        "\n",
        "test_data.shape, test_labels.shape"
      ],
      "execution_count": null,
      "outputs": [
        {
          "output_type": "execute_result",
          "data": {
            "text/plain": [
              "((10000, 784), (10000, 1))"
            ]
          },
          "metadata": {
            "tags": []
          },
          "execution_count": 16
        }
      ]
    },
    {
      "cell_type": "markdown",
      "metadata": {
        "id": "14iAfttRHUhS"
      },
      "source": [
        "#Convert labels to one hot encoding"
      ]
    },
    {
      "cell_type": "code",
      "metadata": {
        "id": "m73FAkcSHZbB"
      },
      "source": [
        "from tensorflow.keras.utils import to_categorical"
      ],
      "execution_count": null,
      "outputs": []
    },
    {
      "cell_type": "markdown",
      "metadata": {
        "id": "4d1Jr2JwJMac"
      },
      "source": [
        "**to_categorical converts labels type to float32**"
      ]
    },
    {
      "cell_type": "code",
      "metadata": {
        "id": "Xt-rQQhII9CV"
      },
      "source": [
        "train_labels = to_categorical(train_labels, num_classes=10, dtype='float32')"
      ],
      "execution_count": null,
      "outputs": []
    },
    {
      "cell_type": "code",
      "metadata": {
        "id": "bH7GlHJaJy3v"
      },
      "source": [
        "test_labels = to_categorical(test_labels, num_classes=10, dtype='float32')"
      ],
      "execution_count": null,
      "outputs": []
    },
    {
      "cell_type": "markdown",
      "metadata": {
        "id": "gwrP0diXKFQe"
      },
      "source": [
        "**check one hot encoding**"
      ]
    },
    {
      "cell_type": "code",
      "metadata": {
        "colab": {
          "base_uri": "https://localhost:8080/"
        },
        "id": "AEGRsAkhJ-QT",
        "outputId": "b43f9f85-e44a-4b52-f423-d7325f47edea"
      },
      "source": [
        "train_labels[-1] "
      ],
      "execution_count": null,
      "outputs": [
        {
          "output_type": "execute_result",
          "data": {
            "text/plain": [
              "array([0., 0., 0., 0., 0., 0., 0., 0., 1., 0.], dtype=float32)"
            ]
          },
          "metadata": {
            "tags": []
          },
          "execution_count": 24
        }
      ]
    },
    {
      "cell_type": "markdown",
      "metadata": {
        "id": "xC2iIJMhMkv9"
      },
      "source": [
        "#Normalize"
      ]
    },
    {
      "cell_type": "markdown",
      "metadata": {
        "id": "do9sKdWpNzQX"
      },
      "source": [
        "**normalize between 0, 1 and float32 dtype**"
      ]
    },
    {
      "cell_type": "code",
      "metadata": {
        "colab": {
          "base_uri": "https://localhost:8080/"
        },
        "id": "yznviXS3KEf7",
        "outputId": "866b0994-69e5-425a-afd6-607d56fe018d"
      },
      "source": [
        "train_data.min(),train_data.max(),train_data.dtype"
      ],
      "execution_count": null,
      "outputs": [
        {
          "output_type": "execute_result",
          "data": {
            "text/plain": [
              "(0, 255, dtype('uint8'))"
            ]
          },
          "metadata": {
            "tags": []
          },
          "execution_count": 29
        }
      ]
    },
    {
      "cell_type": "code",
      "metadata": {
        "id": "oRYrSqbVPHvK"
      },
      "source": [
        "train_data = train_data.astype(np.float32)/255"
      ],
      "execution_count": null,
      "outputs": []
    },
    {
      "cell_type": "code",
      "metadata": {
        "colab": {
          "base_uri": "https://localhost:8080/"
        },
        "id": "22M48wLcPZTv",
        "outputId": "e7fc512d-5c48-4575-b9a7-ebfc53aab1aa"
      },
      "source": [
        "train_data.min(),train_data.max(),train_data.dtype"
      ],
      "execution_count": null,
      "outputs": [
        {
          "output_type": "execute_result",
          "data": {
            "text/plain": [
              "(0.0, 1.0, dtype('float32'))"
            ]
          },
          "metadata": {
            "tags": []
          },
          "execution_count": 32
        }
      ]
    },
    {
      "cell_type": "code",
      "metadata": {
        "id": "K6yGQmu-PRHA"
      },
      "source": [
        "test_data = test_data.astype(np.float32)/255"
      ],
      "execution_count": null,
      "outputs": []
    },
    {
      "cell_type": "code",
      "metadata": {
        "colab": {
          "base_uri": "https://localhost:8080/"
        },
        "id": "H0L540TTPl4y",
        "outputId": "94120d29-a25e-4428-c939-5b11ef3922bc"
      },
      "source": [
        "test_data.min(), test_data.max(), test_data.dtype"
      ],
      "execution_count": null,
      "outputs": [
        {
          "output_type": "execute_result",
          "data": {
            "text/plain": [
              "(0.0, 1.0, dtype('float32'))"
            ]
          },
          "metadata": {
            "tags": []
          },
          "execution_count": 34
        }
      ]
    },
    {
      "cell_type": "markdown",
      "metadata": {
        "id": "sFIT9HoNWt7o"
      },
      "source": [
        "#Create Model"
      ]
    },
    {
      "cell_type": "code",
      "metadata": {
        "id": "iNB7KwUdWxSd"
      },
      "source": [
        "from tensorflow.keras.models import Model\n",
        "from tensorflow.keras.layers import Dense, Input, Dropout"
      ],
      "execution_count": null,
      "outputs": []
    },
    {
      "cell_type": "code",
      "metadata": {
        "id": "mjx6Djq9XTTq"
      },
      "source": [
        "Input_layer = Input(shape=(784,))\n",
        "x = Dense(units=512,activation='relu')(Input_layer)\n",
        "x = Dense(units=256,activation='relu')(x)\n",
        "x = Dropout(0.3)(x)\n",
        "x = Dense(units=128,activation='relu')(x)\n",
        "x = Dropout(0.3)(x)\n",
        "x = Dense(units=64,activation='relu')(x)\n",
        "x = Dropout(0.3)(x)\n",
        "prediction = Dense(units=10, activation='softmax')(x)\n",
        "\n",
        "classification_model = Model(inputs = Input_layer,outputs = prediction)"
      ],
      "execution_count": null,
      "outputs": []
    },
    {
      "cell_type": "code",
      "metadata": {
        "colab": {
          "base_uri": "https://localhost:8080/"
        },
        "id": "DIAxhqxWZCj_",
        "outputId": "96be5af9-a3b6-48e1-fc17-c917867b93f3"
      },
      "source": [
        "classification_model.summary()"
      ],
      "execution_count": null,
      "outputs": [
        {
          "output_type": "stream",
          "text": [
            "Model: \"model_4\"\n",
            "_________________________________________________________________\n",
            "Layer (type)                 Output Shape              Param #   \n",
            "=================================================================\n",
            "input_8 (InputLayer)         [(None, 784)]             0         \n",
            "_________________________________________________________________\n",
            "dense_26 (Dense)             (None, 512)               401920    \n",
            "_________________________________________________________________\n",
            "dense_27 (Dense)             (None, 256)               131328    \n",
            "_________________________________________________________________\n",
            "dropout_9 (Dropout)          (None, 256)               0         \n",
            "_________________________________________________________________\n",
            "dense_28 (Dense)             (None, 128)               32896     \n",
            "_________________________________________________________________\n",
            "dropout_10 (Dropout)         (None, 128)               0         \n",
            "_________________________________________________________________\n",
            "dense_29 (Dense)             (None, 64)                8256      \n",
            "_________________________________________________________________\n",
            "dropout_11 (Dropout)         (None, 64)                0         \n",
            "_________________________________________________________________\n",
            "dense_30 (Dense)             (None, 10)                650       \n",
            "=================================================================\n",
            "Total params: 575,050\n",
            "Trainable params: 575,050\n",
            "Non-trainable params: 0\n",
            "_________________________________________________________________\n"
          ],
          "name": "stdout"
        }
      ]
    },
    {
      "cell_type": "markdown",
      "metadata": {
        "id": "J0EelB4LajeB"
      },
      "source": [
        "#Compile model and Early stopping\n"
      ]
    },
    {
      "cell_type": "code",
      "metadata": {
        "id": "9u88c3yPu6iY"
      },
      "source": [
        "from tensorflow.keras.callbacks import EarlyStopping"
      ],
      "execution_count": null,
      "outputs": []
    },
    {
      "cell_type": "code",
      "metadata": {
        "id": "if4aR23jvDk_"
      },
      "source": [
        "early_stop = EarlyStopping(monitor='val_loss',patience=10, restore_best_weights=True)"
      ],
      "execution_count": null,
      "outputs": []
    },
    {
      "cell_type": "code",
      "metadata": {
        "id": "N7q9J1SEcSA4"
      },
      "source": [
        "from tensorflow.keras.optimizers import Adam"
      ],
      "execution_count": null,
      "outputs": []
    },
    {
      "cell_type": "code",
      "metadata": {
        "id": "8tK5MtqRamTe"
      },
      "source": [
        "classification_model.compile(optimizer=Adam(learning_rate=0.001), loss = 'categorical_crossentropy', metrics=['accuracy'])"
      ],
      "execution_count": null,
      "outputs": []
    },
    {
      "cell_type": "markdown",
      "metadata": {
        "id": "2cE5wW_EdaHh"
      },
      "source": [
        "#Fit model"
      ]
    },
    {
      "cell_type": "code",
      "metadata": {
        "colab": {
          "base_uri": "https://localhost:8080/"
        },
        "id": "ecHTvqBHddLl",
        "outputId": "f398c1ca-8087-4511-e4ff-e055be767d29"
      },
      "source": [
        "classification_model.fit(x=train_data,y=train_labels,batch_size=32, epochs = 40, verbose=1,\n",
        "                         validation_split=0.2,callbacks=[early_stop])"
      ],
      "execution_count": null,
      "outputs": [
        {
          "output_type": "stream",
          "text": [
            "Epoch 1/40\n",
            "1500/1500 [==============================] - 5s 3ms/step - loss: 0.6210 - accuracy: 0.8053 - val_loss: 0.1314 - val_accuracy: 0.9623\n",
            "Epoch 2/40\n",
            "1500/1500 [==============================] - 4s 3ms/step - loss: 0.1558 - accuracy: 0.9580 - val_loss: 0.1193 - val_accuracy: 0.9672\n",
            "Epoch 3/40\n",
            "1500/1500 [==============================] - 4s 3ms/step - loss: 0.1108 - accuracy: 0.9701 - val_loss: 0.1176 - val_accuracy: 0.9686\n",
            "Epoch 4/40\n",
            "1500/1500 [==============================] - 4s 3ms/step - loss: 0.0854 - accuracy: 0.9780 - val_loss: 0.1039 - val_accuracy: 0.9722\n",
            "Epoch 5/40\n",
            "1500/1500 [==============================] - 4s 3ms/step - loss: 0.0697 - accuracy: 0.9812 - val_loss: 0.1071 - val_accuracy: 0.9753\n",
            "Epoch 6/40\n",
            "1500/1500 [==============================] - 4s 3ms/step - loss: 0.0559 - accuracy: 0.9844 - val_loss: 0.1105 - val_accuracy: 0.9737\n",
            "Epoch 7/40\n",
            "1500/1500 [==============================] - 4s 3ms/step - loss: 0.0485 - accuracy: 0.9873 - val_loss: 0.1217 - val_accuracy: 0.9741\n",
            "Epoch 8/40\n",
            "1500/1500 [==============================] - 4s 3ms/step - loss: 0.0457 - accuracy: 0.9875 - val_loss: 0.1048 - val_accuracy: 0.9771\n",
            "Epoch 9/40\n",
            "1500/1500 [==============================] - 4s 3ms/step - loss: 0.0423 - accuracy: 0.9888 - val_loss: 0.1172 - val_accuracy: 0.9755\n",
            "Epoch 10/40\n",
            "1500/1500 [==============================] - 4s 3ms/step - loss: 0.0371 - accuracy: 0.9904 - val_loss: 0.1021 - val_accuracy: 0.9796\n",
            "Epoch 11/40\n",
            "1500/1500 [==============================] - 4s 3ms/step - loss: 0.0312 - accuracy: 0.9918 - val_loss: 0.1257 - val_accuracy: 0.9745\n",
            "Epoch 12/40\n",
            "1500/1500 [==============================] - 4s 3ms/step - loss: 0.0322 - accuracy: 0.9921 - val_loss: 0.1510 - val_accuracy: 0.9730\n",
            "Epoch 13/40\n",
            "1500/1500 [==============================] - 4s 3ms/step - loss: 0.0291 - accuracy: 0.9924 - val_loss: 0.1190 - val_accuracy: 0.9797\n",
            "Epoch 14/40\n",
            "1500/1500 [==============================] - 4s 3ms/step - loss: 0.0235 - accuracy: 0.9942 - val_loss: 0.1478 - val_accuracy: 0.9762\n",
            "Epoch 15/40\n",
            "1500/1500 [==============================] - 4s 3ms/step - loss: 0.0254 - accuracy: 0.9928 - val_loss: 0.1309 - val_accuracy: 0.9777\n",
            "Epoch 16/40\n",
            "1500/1500 [==============================] - 4s 3ms/step - loss: 0.0198 - accuracy: 0.9953 - val_loss: 0.1390 - val_accuracy: 0.9757\n",
            "Epoch 17/40\n",
            "1500/1500 [==============================] - 4s 3ms/step - loss: 0.0227 - accuracy: 0.9936 - val_loss: 0.1258 - val_accuracy: 0.9803\n",
            "Epoch 18/40\n",
            "1500/1500 [==============================] - 4s 3ms/step - loss: 0.0221 - accuracy: 0.9941 - val_loss: 0.1666 - val_accuracy: 0.9789\n",
            "Epoch 19/40\n",
            "1500/1500 [==============================] - 4s 3ms/step - loss: 0.0285 - accuracy: 0.9942 - val_loss: 0.1486 - val_accuracy: 0.9778\n",
            "Epoch 20/40\n",
            "1500/1500 [==============================] - 4s 3ms/step - loss: 0.0169 - accuracy: 0.9960 - val_loss: 0.1628 - val_accuracy: 0.9790\n"
          ],
          "name": "stdout"
        },
        {
          "output_type": "execute_result",
          "data": {
            "text/plain": [
              "<tensorflow.python.keras.callbacks.History at 0x7fcabcf39390>"
            ]
          },
          "metadata": {
            "tags": []
          },
          "execution_count": 126
        }
      ]
    },
    {
      "cell_type": "markdown",
      "metadata": {
        "id": "cEzE1ox6eaGi"
      },
      "source": [
        "#Evaluate model"
      ]
    },
    {
      "cell_type": "markdown",
      "metadata": {
        "id": "-2HVgi_9jCJX"
      },
      "source": [
        "**model history**"
      ]
    },
    {
      "cell_type": "code",
      "metadata": {
        "id": "E0z-qJztec52"
      },
      "source": [
        "model_history_loss = pd.DataFrame({'loss':classification_model.history.history['loss'],\n",
        "                                   'val_loss':classification_model.history.history['val_loss']})\n",
        "model_history_acc = pd.DataFrame({'accuracy':classification_model.history.history['accuracy'],\n",
        "                                  'val_accuracy':classification_model.history.history['val_accuracy']})"
      ],
      "execution_count": null,
      "outputs": []
    },
    {
      "cell_type": "code",
      "metadata": {
        "colab": {
          "base_uri": "https://localhost:8080/",
          "height": 282
        },
        "id": "5W3AUFbRer93",
        "outputId": "fb7fabcd-4173-4e33-8310-87cdf3a82756"
      },
      "source": [
        "model_history_loss.plot()"
      ],
      "execution_count": null,
      "outputs": [
        {
          "output_type": "execute_result",
          "data": {
            "text/plain": [
              "<matplotlib.axes._subplots.AxesSubplot at 0x7fcabcf744a8>"
            ]
          },
          "metadata": {
            "tags": []
          },
          "execution_count": 128
        },
        {
          "output_type": "display_data",
          "data": {
            "image/png": "[encoded data removed]",
            "text/plain": [
              "<Figure size 432x288 with 1 Axes>"
            ]
          },
          "metadata": {
            "tags": [],
            "needs_background": "light"
          }
        }
      ]
    },
    {
      "cell_type": "code",
      "metadata": {
        "colab": {
          "base_uri": "https://localhost:8080/",
          "height": 282
        },
        "id": "lzvtNOaNiM0E",
        "outputId": "2674efcc-7afa-4128-d8a4-40fbc15ef0a0"
      },
      "source": [
        "model_history_acc.plot()"
      ],
      "execution_count": null,
      "outputs": [
        {
          "output_type": "execute_result",
          "data": {
            "text/plain": [
              "<matplotlib.axes._subplots.AxesSubplot at 0x7fcac4bffc18>"
            ]
          },
          "metadata": {
            "tags": []
          },
          "execution_count": 129
        },
        {
          "output_type": "display_data",
          "data": {
            "image/png": "[encoded data removed]",
            "text/plain": [
              "<Figure size 432x288 with 1 Axes>"
            ]
          },
          "metadata": {
            "tags": [],
            "needs_background": "light"
          }
        }
      ]
    },
    {
      "cell_type": "markdown",
      "metadata": {
        "id": "PEeyEniHjGdA"
      },
      "source": [
        "**Evaluate**"
      ]
    },
    {
      "cell_type": "code",
      "metadata": {
        "colab": {
          "base_uri": "https://localhost:8080/"
        },
        "id": "MzJaqrOBkk5C",
        "outputId": "5f76a359-bea9-4865-c07b-c22c013b5abc"
      },
      "source": [
        "max(classification_model.history.history['val_accuracy'])"
      ],
      "execution_count": null,
      "outputs": [
        {
          "output_type": "execute_result",
          "data": {
            "text/plain": [
              "0.9802500009536743"
            ]
          },
          "metadata": {
            "tags": []
          },
          "execution_count": 130
        }
      ]
    },
    {
      "cell_type": "code",
      "metadata": {
        "colab": {
          "base_uri": "https://localhost:8080/"
        },
        "id": "HD6B5Eu7iZmG",
        "outputId": "cb150fc8-c385-42db-ef03-a4db137c4776"
      },
      "source": [
        "classification_model.evaluate(x= test_data, y= test_labels)"
      ],
      "execution_count": null,
      "outputs": [
        {
          "output_type": "stream",
          "text": [
            "313/313 [==============================] - 1s 2ms/step - loss: 0.0805 - accuracy: 0.9819\n"
          ],
          "name": "stdout"
        },
        {
          "output_type": "execute_result",
          "data": {
            "text/plain": [
              "[0.0804930180311203, 0.9818999767303467]"
            ]
          },
          "metadata": {
            "tags": []
          },
          "execution_count": 131
        }
      ]
    }
  ]
}