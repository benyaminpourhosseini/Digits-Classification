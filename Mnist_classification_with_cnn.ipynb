{
  "nbformat": 4,
  "nbformat_minor": 0,
  "metadata": {
    "colab": {
      "name": "Mnist classification with cnn.ipynb",
      "provenance": [],
      "collapsed_sections": []
    },
    "kernelspec": {
      "name": "python3",
      "display_name": "Python 3"
    },
    "accelerator": "GPU"
  },
  "cells": [
    {
      "cell_type": "code",
      "metadata": {
        "id": "mHUBxr3BWdqe"
      },
      "source": [
        "import tensorflow as tf\n",
        "import numpy as np\n",
        "import pandas as pd\n",
        "import matplotlib.pyplot as plt\n",
        "%matplotlib inline"
      ],
      "execution_count": null,
      "outputs": []
    },
    {
      "cell_type": "markdown",
      "metadata": {
        "id": "vUXg-pSAt9Ly"
      },
      "source": [
        "#Load data"
      ]
    },
    {
      "cell_type": "code",
      "metadata": {
        "id": "JSYw2uZssTUg"
      },
      "source": [
        "(train_data,train_labels),(test_data,test_labels) = tf.keras.datasets.mnist.load_data()"
      ],
      "execution_count": null,
      "outputs": []
    },
    {
      "cell_type": "markdown",
      "metadata": {
        "id": "u2bPwYkYt58I"
      },
      "source": [
        "##Check data"
      ]
    },
    {
      "cell_type": "markdown",
      "metadata": {
        "id": "SRP46LSwum0t"
      },
      "source": [
        "**We need to change dtype of train_data and train_labels\n",
        "as well change shape of train_labels**"
      ]
    },
    {
      "cell_type": "code",
      "metadata": {
        "colab": {
          "base_uri": "https://localhost:8080/"
        },
        "id": "hVzr-4g_t4La",
        "outputId": "01bd8d3e-22f6-42f2-b228-6b46a1982b71"
      },
      "source": [
        "train_data.shape, train_data.dtype, type(train_data)"
      ],
      "execution_count": null,
      "outputs": [
        {
          "output_type": "execute_result",
          "data": {
            "text/plain": [
              "((60000, 28, 28), dtype('uint8'), numpy.ndarray)"
            ]
          },
          "metadata": {
            "tags": []
          },
          "execution_count": 127
        }
      ]
    },
    {
      "cell_type": "code",
      "metadata": {
        "colab": {
          "base_uri": "https://localhost:8080/"
        },
        "id": "G3ASEdAOuOba",
        "outputId": "e8218145-ba96-4993-da75-9164c997234a"
      },
      "source": [
        "train_labels.shape, train_labels.dtype, type(train_labels)"
      ],
      "execution_count": null,
      "outputs": [
        {
          "output_type": "execute_result",
          "data": {
            "text/plain": [
              "((60000,), dtype('uint8'), numpy.ndarray)"
            ]
          },
          "metadata": {
            "tags": []
          },
          "execution_count": 128
        }
      ]
    },
    {
      "cell_type": "markdown",
      "metadata": {
        "id": "bcGjO_H9vCD-"
      },
      "source": [
        "##Example of data"
      ]
    },
    {
      "cell_type": "code",
      "metadata": {
        "colab": {
          "base_uri": "https://localhost:8080/"
        },
        "id": "ba2X1BhfvHGJ",
        "outputId": "ea2e7776-3017-474e-d8ed-d07c7848ad46"
      },
      "source": [
        "train_labels[-1]"
      ],
      "execution_count": null,
      "outputs": [
        {
          "output_type": "execute_result",
          "data": {
            "text/plain": [
              "8"
            ]
          },
          "metadata": {
            "tags": []
          },
          "execution_count": 130
        }
      ]
    },
    {
      "cell_type": "code",
      "metadata": {
        "colab": {
          "base_uri": "https://localhost:8080/",
          "height": 282
        },
        "id": "fkVpt7XFvO2K",
        "outputId": "7962cccc-88f5-4847-e502-5557b469ecf3"
      },
      "source": [
        "plt.imshow(train_data[-1])"
      ],
      "execution_count": null,
      "outputs": [
        {
          "output_type": "execute_result",
          "data": {
            "text/plain": [
              "<matplotlib.image.AxesImage at 0x7fbe92bb0208>"
            ]
          },
          "metadata": {
            "tags": []
          },
          "execution_count": 131
        },
        {
          "output_type": "display_data",
          "data": {
            "image/png": "[encoded data removed]",
            "text/plain": [
              "<Figure size 432x288 with 1 Axes>"
            ]
          },
          "metadata": {
            "tags": [],
            "needs_background": "light"
          }
        }
      ]
    },
    {
      "cell_type": "markdown",
      "metadata": {
        "id": "L5YYx5_Cveb7"
      },
      "source": [
        "#One hot labels"
      ]
    },
    {
      "cell_type": "code",
      "metadata": {
        "id": "CnXqNlRjvZmi"
      },
      "source": [
        "from tensorflow.keras.utils import to_categorical"
      ],
      "execution_count": null,
      "outputs": []
    },
    {
      "cell_type": "code",
      "metadata": {
        "id": "C586Vlv7v45U"
      },
      "source": [
        "train_cat_labels = to_categorical(train_labels, num_classes=10, dtype='float32')"
      ],
      "execution_count": null,
      "outputs": []
    },
    {
      "cell_type": "code",
      "metadata": {
        "id": "jO22swuAwKE3"
      },
      "source": [
        "test_cat_labels = to_categorical(test_labels, num_classes=10, dtype='float32')"
      ],
      "execution_count": null,
      "outputs": []
    },
    {
      "cell_type": "markdown",
      "metadata": {
        "id": "rguz60NVwar-"
      },
      "source": [
        "check outputs of one hot"
      ]
    },
    {
      "cell_type": "code",
      "metadata": {
        "colab": {
          "base_uri": "https://localhost:8080/"
        },
        "id": "q_wvHF3PwZpe",
        "outputId": "8593ab34-17f5-4dfe-facf-30290cf77859"
      },
      "source": [
        "train_cat_labels[-100]"
      ],
      "execution_count": null,
      "outputs": [
        {
          "output_type": "execute_result",
          "data": {
            "text/plain": [
              "array([0., 0., 0., 0., 1., 0., 0., 0., 0., 0.], dtype=float32)"
            ]
          },
          "metadata": {
            "tags": []
          },
          "execution_count": 135
        }
      ]
    },
    {
      "cell_type": "code",
      "metadata": {
        "colab": {
          "base_uri": "https://localhost:8080/"
        },
        "id": "DdYkscWpwmBw",
        "outputId": "3381ed78-5ddb-436a-afeb-0d154cc40561"
      },
      "source": [
        "test_cat_labels[0]"
      ],
      "execution_count": null,
      "outputs": [
        {
          "output_type": "execute_result",
          "data": {
            "text/plain": [
              "array([0., 0., 0., 0., 0., 0., 0., 1., 0., 0.], dtype=float32)"
            ]
          },
          "metadata": {
            "tags": []
          },
          "execution_count": 136
        }
      ]
    },
    {
      "cell_type": "markdown",
      "metadata": {
        "id": "_WgVLwMvw4Jf"
      },
      "source": [
        "# Normalize and Reshape"
      ]
    },
    {
      "cell_type": "code",
      "metadata": {
        "id": "SUAmCWdA0Jcd"
      },
      "source": [
        "train_data = train_data.astype('float32')\n",
        "test_data = test_data.astype('float32')"
      ],
      "execution_count": null,
      "outputs": []
    },
    {
      "cell_type": "code",
      "metadata": {
        "colab": {
          "base_uri": "https://localhost:8080/"
        },
        "id": "mJGETw9gw8bC",
        "outputId": "44d98200-d500-4106-b2ae-7768fc1f55e2"
      },
      "source": [
        "train_data.dtype,test_data.dtype"
      ],
      "execution_count": null,
      "outputs": [
        {
          "output_type": "execute_result",
          "data": {
            "text/plain": [
              "(dtype('float32'), dtype('float32'))"
            ]
          },
          "metadata": {
            "tags": []
          },
          "execution_count": 138
        }
      ]
    },
    {
      "cell_type": "code",
      "metadata": {
        "colab": {
          "base_uri": "https://localhost:8080/"
        },
        "id": "_mYaMF3O0lPp",
        "outputId": "93c4992b-9106-422d-a1aa-72767761e8bc"
      },
      "source": [
        "train_data.max(),train_data.min()"
      ],
      "execution_count": null,
      "outputs": [
        {
          "output_type": "execute_result",
          "data": {
            "text/plain": [
              "(255.0, 0.0)"
            ]
          },
          "metadata": {
            "tags": []
          },
          "execution_count": 139
        }
      ]
    },
    {
      "cell_type": "code",
      "metadata": {
        "id": "fZmZQ_sK0sjj"
      },
      "source": [
        "train_data = train_data/255\n",
        "test_data = test_data/255"
      ],
      "execution_count": null,
      "outputs": []
    },
    {
      "cell_type": "code",
      "metadata": {
        "colab": {
          "base_uri": "https://localhost:8080/"
        },
        "id": "UNKVAPnX01Fs",
        "outputId": "408babfe-e78a-478c-9998-8087eecb1894"
      },
      "source": [
        "train_data.max(), train_data.min()"
      ],
      "execution_count": null,
      "outputs": [
        {
          "output_type": "execute_result",
          "data": {
            "text/plain": [
              "(1.0, 0.0)"
            ]
          },
          "metadata": {
            "tags": []
          },
          "execution_count": 141
        }
      ]
    },
    {
      "cell_type": "markdown",
      "metadata": {
        "id": "db3HxN6c1lRT"
      },
      "source": [
        "**Notice:(None = batch_size)**\n",
        "\n",
        "**CNN: Input= (None, Height, Width, Channel),  Outputs= (None, num_class)**"
      ]
    },
    {
      "cell_type": "code",
      "metadata": {
        "colab": {
          "base_uri": "https://localhost:8080/"
        },
        "id": "fxPcQp4V2lcP",
        "outputId": "fbfa4b84-8a85-4b03-c5a9-8125b20b269a"
      },
      "source": [
        "train_data = np.reshape(train_data, (-1, 28, 28, 1))\n",
        "train_data.shape"
      ],
      "execution_count": null,
      "outputs": [
        {
          "output_type": "execute_result",
          "data": {
            "text/plain": [
              "(60000, 28, 28, 1)"
            ]
          },
          "metadata": {
            "tags": []
          },
          "execution_count": 142
        }
      ]
    },
    {
      "cell_type": "code",
      "metadata": {
        "colab": {
          "base_uri": "https://localhost:8080/"
        },
        "id": "sCqxEoKa2yJs",
        "outputId": "49aff7df-1ecd-43f7-be87-7c4c0866885e"
      },
      "source": [
        "test_data = np.reshape(test_data, (-1, 28, 28, 1))\n",
        "test_data.shape"
      ],
      "execution_count": null,
      "outputs": [
        {
          "output_type": "execute_result",
          "data": {
            "text/plain": [
              "(10000, 28, 28, 1)"
            ]
          },
          "metadata": {
            "tags": []
          },
          "execution_count": 143
        }
      ]
    },
    {
      "cell_type": "markdown",
      "metadata": {
        "id": "r8um9XqL089Y"
      },
      "source": [
        "#Create model"
      ]
    },
    {
      "cell_type": "code",
      "metadata": {
        "id": "1b5j5FV00_nH"
      },
      "source": [
        "from tensorflow.keras.models import Model\n",
        "from tensorflow.keras.layers import Input, Dense, Conv2D, ReLU, MaxPool2D, Flatten, Dropout"
      ],
      "execution_count": null,
      "outputs": []
    },
    {
      "cell_type": "code",
      "metadata": {
        "id": "Rs8pvunx62My"
      },
      "source": [
        "i = Input(shape=(28, 28, 1))\n",
        "#block1\n",
        "x = Conv2D(filters=16, kernel_size=(5,5), padding='same', name= 'block1')(i)\n",
        "x = ReLU()(x)\n",
        "x = MaxPool2D(pool_size=(2,2), strides=2, padding='same')(x) \n",
        "#block2\n",
        "x = Conv2D(filters=32, kernel_size=(3,3), padding='valid', name= 'block2')(x)\n",
        "x = ReLU()(x)\n",
        "x = MaxPool2D(pool_size=(2,2), strides=2, padding='valid')(x)\n",
        "#Flatten\n",
        "x = Flatten()(x)\n",
        "#Fully Connected Network\n",
        "x = Dense(units=128,activation='relu')(x)\n",
        "x = Dropout(0.2)(x)\n",
        "x = Dense(units=32,activation='relu')(x)\n",
        "x = Dropout(0.2)(x)\n",
        "prediction = Dense(units=10, activation='softmax')(x)\n",
        "\n",
        "classification_model = Model(inputs=i, outputs=prediction)"
      ],
      "execution_count": null,
      "outputs": []
    },
    {
      "cell_type": "code",
      "metadata": {
        "colab": {
          "base_uri": "https://localhost:8080/"
        },
        "id": "IFiDKJSN62I6",
        "outputId": "3d4d1a11-f0ed-44e2-c1f5-9ddb58d1a2aa"
      },
      "source": [
        "classification_model.summary()"
      ],
      "execution_count": null,
      "outputs": [
        {
          "output_type": "stream",
          "text": [
            "Model: \"model_3\"\n",
            "_________________________________________________________________\n",
            "Layer (type)                 Output Shape              Param #   \n",
            "=================================================================\n",
            "input_6 (InputLayer)         [(None, 28, 28, 1)]       0         \n",
            "_________________________________________________________________\n",
            "block1 (Conv2D)              (None, 28, 28, 16)        416       \n",
            "_________________________________________________________________\n",
            "re_lu_7 (ReLU)               (None, 28, 28, 16)        0         \n",
            "_________________________________________________________________\n",
            "max_pooling2d_4 (MaxPooling2 (None, 14, 14, 16)        0         \n",
            "_________________________________________________________________\n",
            "block2 (Conv2D)              (None, 12, 12, 32)        4640      \n",
            "_________________________________________________________________\n",
            "re_lu_8 (ReLU)               (None, 12, 12, 32)        0         \n",
            "_________________________________________________________________\n",
            "max_pooling2d_5 (MaxPooling2 (None, 6, 6, 32)          0         \n",
            "_________________________________________________________________\n",
            "flatten_3 (Flatten)          (None, 1152)              0         \n",
            "_________________________________________________________________\n",
            "dense_9 (Dense)              (None, 128)               147584    \n",
            "_________________________________________________________________\n",
            "dropout_6 (Dropout)          (None, 128)               0         \n",
            "_________________________________________________________________\n",
            "dense_10 (Dense)             (None, 32)                4128      \n",
            "_________________________________________________________________\n",
            "dropout_7 (Dropout)          (None, 32)                0         \n",
            "_________________________________________________________________\n",
            "dense_11 (Dense)             (None, 10)                330       \n",
            "=================================================================\n",
            "Total params: 157,098\n",
            "Trainable params: 157,098\n",
            "Non-trainable params: 0\n",
            "_________________________________________________________________\n"
          ],
          "name": "stdout"
        }
      ]
    },
    {
      "cell_type": "markdown",
      "metadata": {
        "id": "yz3I-B5hD7bb"
      },
      "source": [
        "#Compile model"
      ]
    },
    {
      "cell_type": "markdown",
      "metadata": {
        "id": "NtzW5KZoD_3Y"
      },
      "source": [
        "**Classification: loss=categorical_crossentropy, output_layer=softmax**\n",
        "\n",
        "**Multi_class: loss=binary_crossentropy, output_layer=sigmoid**"
      ]
    },
    {
      "cell_type": "code",
      "metadata": {
        "id": "okLz08qZFpzD"
      },
      "source": [
        "from tensorflow.keras.optimizers import Adam"
      ],
      "execution_count": null,
      "outputs": []
    },
    {
      "cell_type": "code",
      "metadata": {
        "id": "s9bx51fs61_t"
      },
      "source": [
        "classification_model.compile(optimizer=Adam(learning_rate=0.001),loss='categorical_crossentropy', metrics=['accuracy'])"
      ],
      "execution_count": null,
      "outputs": []
    },
    {
      "cell_type": "code",
      "metadata": {
        "id": "e7pLEbaz61S_"
      },
      "source": [
        "from tensorflow.keras.callbacks import EarlyStopping"
      ],
      "execution_count": null,
      "outputs": []
    },
    {
      "cell_type": "code",
      "metadata": {
        "id": "nusSKffjI_o1"
      },
      "source": [
        "my_earlystop = EarlyStopping(monitor='val_loss',patience=10, restore_best_weights=True)"
      ],
      "execution_count": null,
      "outputs": []
    },
    {
      "cell_type": "markdown",
      "metadata": {
        "id": "gBPC4ySPJlo6"
      },
      "source": [
        "#Fit model"
      ]
    },
    {
      "cell_type": "markdown",
      "metadata": {
        "id": "pRsUoki_KFtl"
      },
      "source": [
        "##Check data"
      ]
    },
    {
      "cell_type": "code",
      "metadata": {
        "colab": {
          "base_uri": "https://localhost:8080/"
        },
        "id": "hHZ1pyGYJ8py",
        "outputId": "32046758-d1df-48fb-89ef-5e3b7f524aa1"
      },
      "source": [
        "train_data.shape, train_data.dtype, type(train_data)"
      ],
      "execution_count": null,
      "outputs": [
        {
          "output_type": "execute_result",
          "data": {
            "text/plain": [
              "((60000, 28, 28, 1), dtype('float32'), numpy.ndarray)"
            ]
          },
          "metadata": {
            "tags": []
          },
          "execution_count": 151
        }
      ]
    },
    {
      "cell_type": "code",
      "metadata": {
        "colab": {
          "base_uri": "https://localhost:8080/"
        },
        "id": "HArT6rfPaJYn",
        "outputId": "dd95d8e1-d7fb-48d4-d27b-14447346df89"
      },
      "source": [
        "train_cat_labels.shape,train_cat_labels.dtype,type(train_cat_labels)"
      ],
      "execution_count": null,
      "outputs": [
        {
          "output_type": "execute_result",
          "data": {
            "text/plain": [
              "((60000, 10), dtype('float32'), numpy.ndarray)"
            ]
          },
          "metadata": {
            "tags": []
          },
          "execution_count": 153
        }
      ]
    },
    {
      "cell_type": "code",
      "metadata": {
        "colab": {
          "base_uri": "https://localhost:8080/"
        },
        "id": "Eagtn9ixKYaI",
        "outputId": "2d549120-246f-43ee-cd54-79f001813112"
      },
      "source": [
        "test_data.shape, test_data.dtype, type(test_data)"
      ],
      "execution_count": null,
      "outputs": [
        {
          "output_type": "execute_result",
          "data": {
            "text/plain": [
              "((10000, 28, 28, 1), dtype('float32'), numpy.ndarray)"
            ]
          },
          "metadata": {
            "tags": []
          },
          "execution_count": 154
        }
      ]
    },
    {
      "cell_type": "code",
      "metadata": {
        "colab": {
          "base_uri": "https://localhost:8080/"
        },
        "id": "zTYqx5Z1aSeI",
        "outputId": "2a740167-3de7-4b01-d96b-1b76b656c06e"
      },
      "source": [
        "test_cat_labels.shape,test_cat_labels.dtype,type(test_cat_labels)"
      ],
      "execution_count": null,
      "outputs": [
        {
          "output_type": "execute_result",
          "data": {
            "text/plain": [
              "((10000, 10), dtype('float32'), numpy.ndarray)"
            ]
          },
          "metadata": {
            "tags": []
          },
          "execution_count": 155
        }
      ]
    },
    {
      "cell_type": "markdown",
      "metadata": {
        "id": "OMfRoWvHMNsa"
      },
      "source": [
        "##Fit data to model"
      ]
    },
    {
      "cell_type": "code",
      "metadata": {
        "colab": {
          "base_uri": "https://localhost:8080/"
        },
        "id": "hzBf5hRSJpKr",
        "outputId": "118c1d07-f406-4d9e-c140-ef4cb155b880"
      },
      "source": [
        "classification_model.fit(x=train_data, y=train_cat_labels, batch_size=32, epochs=40, verbose=1, callbacks=my_earlystop, validation_split=0.2)"
      ],
      "execution_count": null,
      "outputs": [
        {
          "output_type": "stream",
          "text": [
            "Epoch 1/40\n",
            "1500/1500 [==============================] - 9s 6ms/step - loss: 0.5784 - accuracy: 0.8101 - val_loss: 0.0668 - val_accuracy: 0.9801\n",
            "Epoch 2/40\n",
            "1500/1500 [==============================] - 8s 5ms/step - loss: 0.0964 - accuracy: 0.9726 - val_loss: 0.0460 - val_accuracy: 0.9853\n",
            "Epoch 3/40\n",
            "1500/1500 [==============================] - 8s 5ms/step - loss: 0.0641 - accuracy: 0.9814 - val_loss: 0.0498 - val_accuracy: 0.9855\n",
            "Epoch 4/40\n",
            "1500/1500 [==============================] - 8s 5ms/step - loss: 0.0519 - accuracy: 0.9850 - val_loss: 0.0418 - val_accuracy: 0.9873\n",
            "Epoch 5/40\n",
            "1500/1500 [==============================] - 8s 5ms/step - loss: 0.0445 - accuracy: 0.9872 - val_loss: 0.0405 - val_accuracy: 0.9889\n",
            "Epoch 6/40\n",
            "1500/1500 [==============================] - 8s 6ms/step - loss: 0.0373 - accuracy: 0.9887 - val_loss: 0.0390 - val_accuracy: 0.9897\n",
            "Epoch 7/40\n",
            "1500/1500 [==============================] - 8s 6ms/step - loss: 0.0310 - accuracy: 0.9913 - val_loss: 0.0365 - val_accuracy: 0.9908\n",
            "Epoch 8/40\n",
            "1500/1500 [==============================] - 8s 6ms/step - loss: 0.0252 - accuracy: 0.9926 - val_loss: 0.0442 - val_accuracy: 0.9883\n",
            "Epoch 9/40\n",
            "1500/1500 [==============================] - 8s 6ms/step - loss: 0.0248 - accuracy: 0.9925 - val_loss: 0.0380 - val_accuracy: 0.9911\n",
            "Epoch 10/40\n",
            "1500/1500 [==============================] - 8s 6ms/step - loss: 0.0233 - accuracy: 0.9929 - val_loss: 0.0476 - val_accuracy: 0.9904\n",
            "Epoch 11/40\n",
            "1500/1500 [==============================] - 8s 6ms/step - loss: 0.0207 - accuracy: 0.9936 - val_loss: 0.0424 - val_accuracy: 0.9898\n",
            "Epoch 12/40\n",
            "1500/1500 [==============================] - 8s 6ms/step - loss: 0.0187 - accuracy: 0.9944 - val_loss: 0.0444 - val_accuracy: 0.9901\n",
            "Epoch 13/40\n",
            "1500/1500 [==============================] - 8s 6ms/step - loss: 0.0149 - accuracy: 0.9956 - val_loss: 0.0395 - val_accuracy: 0.9897\n",
            "Epoch 14/40\n",
            "1500/1500 [==============================] - 8s 6ms/step - loss: 0.0150 - accuracy: 0.9954 - val_loss: 0.0391 - val_accuracy: 0.9918\n",
            "Epoch 15/40\n",
            "1500/1500 [==============================] - 8s 6ms/step - loss: 0.0149 - accuracy: 0.9954 - val_loss: 0.0478 - val_accuracy: 0.9915\n",
            "Epoch 16/40\n",
            "1500/1500 [==============================] - 8s 6ms/step - loss: 0.0133 - accuracy: 0.9959 - val_loss: 0.0687 - val_accuracy: 0.9878\n",
            "Epoch 17/40\n",
            "1500/1500 [==============================] - 8s 6ms/step - loss: 0.0127 - accuracy: 0.9957 - val_loss: 0.0456 - val_accuracy: 0.9915\n"
          ],
          "name": "stdout"
        },
        {
          "output_type": "execute_result",
          "data": {
            "text/plain": [
              "<tensorflow.python.keras.callbacks.History at 0x7fbe92b33550>"
            ]
          },
          "metadata": {
            "tags": []
          },
          "execution_count": 156
        }
      ]
    },
    {
      "cell_type": "markdown",
      "metadata": {
        "id": "6phjozaxSViJ"
      },
      "source": [
        "#Evaluate model"
      ]
    },
    {
      "cell_type": "markdown",
      "metadata": {
        "id": "Va71NIMVT1xp"
      },
      "source": [
        "##Plot history"
      ]
    },
    {
      "cell_type": "code",
      "metadata": {
        "id": "OJLv2Zh2SbPj"
      },
      "source": [
        "model_history = pd.DataFrame(classification_model.history.history)"
      ],
      "execution_count": null,
      "outputs": []
    },
    {
      "cell_type": "code",
      "metadata": {
        "colab": {
          "base_uri": "https://localhost:8080/",
          "height": 583
        },
        "id": "xonpc5lcYN1P",
        "outputId": "33bb6678-34fe-49c2-dd70-5d4d3d7ccc2c"
      },
      "source": [
        "model_history"
      ],
      "execution_count": null,
      "outputs": [
        {
          "output_type": "execute_result",
          "data": {
            "text/html": [
              "<div>\n",
              "<style scoped>\n",
              "    .dataframe tbody tr th:only-of-type {\n",
              "        vertical-align: middle;\n",
              "    }\n",
              "\n",
              "    .dataframe tbody tr th {\n",
              "        vertical-align: top;\n",
              "    }\n",
              "\n",
              "    .dataframe thead th {\n",
              "        text-align: right;\n",
              "    }\n",
              "</style>\n",
              "<table border=\"1\" class=\"dataframe\">\n",
              "  <thead>\n",
              "    <tr style=\"text-align: right;\">\n",
              "      <th></th>\n",
              "      <th>loss</th>\n",
              "      <th>accuracy</th>\n",
              "      <th>val_loss</th>\n",
              "      <th>val_accuracy</th>\n",
              "    </tr>\n",
              "  </thead>\n",
              "  <tbody>\n",
              "    <tr>\n",
              "      <th>0</th>\n",
              "      <td>0.279388</td>\n",
              "      <td>0.913458</td>\n",
              "      <td>0.066771</td>\n",
              "      <td>0.980083</td>\n",
              "    </tr>\n",
              "    <tr>\n",
              "      <th>1</th>\n",
              "      <td>0.090156</td>\n",
              "      <td>0.975479</td>\n",
              "      <td>0.046006</td>\n",
              "      <td>0.985333</td>\n",
              "    </tr>\n",
              "    <tr>\n",
              "      <th>2</th>\n",
              "      <td>0.063723</td>\n",
              "      <td>0.981687</td>\n",
              "      <td>0.049766</td>\n",
              "      <td>0.985500</td>\n",
              "    </tr>\n",
              "    <tr>\n",
              "      <th>3</th>\n",
              "      <td>0.051080</td>\n",
              "      <td>0.985000</td>\n",
              "      <td>0.041850</td>\n",
              "      <td>0.987333</td>\n",
              "    </tr>\n",
              "    <tr>\n",
              "      <th>4</th>\n",
              "      <td>0.044635</td>\n",
              "      <td>0.987042</td>\n",
              "      <td>0.040466</td>\n",
              "      <td>0.988917</td>\n",
              "    </tr>\n",
              "    <tr>\n",
              "      <th>5</th>\n",
              "      <td>0.037575</td>\n",
              "      <td>0.988729</td>\n",
              "      <td>0.038983</td>\n",
              "      <td>0.989667</td>\n",
              "    </tr>\n",
              "    <tr>\n",
              "      <th>6</th>\n",
              "      <td>0.033150</td>\n",
              "      <td>0.990479</td>\n",
              "      <td>0.036461</td>\n",
              "      <td>0.990750</td>\n",
              "    </tr>\n",
              "    <tr>\n",
              "      <th>7</th>\n",
              "      <td>0.026319</td>\n",
              "      <td>0.992625</td>\n",
              "      <td>0.044152</td>\n",
              "      <td>0.988333</td>\n",
              "    </tr>\n",
              "    <tr>\n",
              "      <th>8</th>\n",
              "      <td>0.025356</td>\n",
              "      <td>0.992625</td>\n",
              "      <td>0.037997</td>\n",
              "      <td>0.991083</td>\n",
              "    </tr>\n",
              "    <tr>\n",
              "      <th>9</th>\n",
              "      <td>0.022247</td>\n",
              "      <td>0.993354</td>\n",
              "      <td>0.047607</td>\n",
              "      <td>0.990417</td>\n",
              "    </tr>\n",
              "    <tr>\n",
              "      <th>10</th>\n",
              "      <td>0.021758</td>\n",
              "      <td>0.993688</td>\n",
              "      <td>0.042376</td>\n",
              "      <td>0.989833</td>\n",
              "    </tr>\n",
              "    <tr>\n",
              "      <th>11</th>\n",
              "      <td>0.018737</td>\n",
              "      <td>0.994125</td>\n",
              "      <td>0.044377</td>\n",
              "      <td>0.990083</td>\n",
              "    </tr>\n",
              "    <tr>\n",
              "      <th>12</th>\n",
              "      <td>0.018373</td>\n",
              "      <td>0.994375</td>\n",
              "      <td>0.039476</td>\n",
              "      <td>0.989667</td>\n",
              "    </tr>\n",
              "    <tr>\n",
              "      <th>13</th>\n",
              "      <td>0.016500</td>\n",
              "      <td>0.995083</td>\n",
              "      <td>0.039139</td>\n",
              "      <td>0.991833</td>\n",
              "    </tr>\n",
              "    <tr>\n",
              "      <th>14</th>\n",
              "      <td>0.016138</td>\n",
              "      <td>0.995188</td>\n",
              "      <td>0.047760</td>\n",
              "      <td>0.991500</td>\n",
              "    </tr>\n",
              "    <tr>\n",
              "      <th>15</th>\n",
              "      <td>0.013832</td>\n",
              "      <td>0.995562</td>\n",
              "      <td>0.068691</td>\n",
              "      <td>0.987833</td>\n",
              "    </tr>\n",
              "    <tr>\n",
              "      <th>16</th>\n",
              "      <td>0.013213</td>\n",
              "      <td>0.995896</td>\n",
              "      <td>0.045626</td>\n",
              "      <td>0.991500</td>\n",
              "    </tr>\n",
              "  </tbody>\n",
              "</table>\n",
              "</div>"
            ],
            "text/plain": [
              "        loss  accuracy  val_loss  val_accuracy\n",
              "0   0.279388  0.913458  0.066771      0.980083\n",
              "1   0.090156  0.975479  0.046006      0.985333\n",
              "2   0.063723  0.981687  0.049766      0.985500\n",
              "3   0.051080  0.985000  0.041850      0.987333\n",
              "4   0.044635  0.987042  0.040466      0.988917\n",
              "5   0.037575  0.988729  0.038983      0.989667\n",
              "6   0.033150  0.990479  0.036461      0.990750\n",
              "7   0.026319  0.992625  0.044152      0.988333\n",
              "8   0.025356  0.992625  0.037997      0.991083\n",
              "9   0.022247  0.993354  0.047607      0.990417\n",
              "10  0.021758  0.993688  0.042376      0.989833\n",
              "11  0.018737  0.994125  0.044377      0.990083\n",
              "12  0.018373  0.994375  0.039476      0.989667\n",
              "13  0.016500  0.995083  0.039139      0.991833\n",
              "14  0.016138  0.995188  0.047760      0.991500\n",
              "15  0.013832  0.995562  0.068691      0.987833\n",
              "16  0.013213  0.995896  0.045626      0.991500"
            ]
          },
          "metadata": {
            "tags": []
          },
          "execution_count": 158
        }
      ]
    },
    {
      "cell_type": "code",
      "metadata": {
        "colab": {
          "base_uri": "https://localhost:8080/",
          "height": 282
        },
        "id": "vkhnpB1rTN3N",
        "outputId": "1dcc6317-b180-4065-c53a-d65580d8bc7f"
      },
      "source": [
        "model_history[['loss','val_loss']].plot()"
      ],
      "execution_count": null,
      "outputs": [
        {
          "output_type": "execute_result",
          "data": {
            "text/plain": [
              "<matplotlib.axes._subplots.AxesSubplot at 0x7fbe9192c358>"
            ]
          },
          "metadata": {
            "tags": []
          },
          "execution_count": 160
        },
        {
          "output_type": "display_data",
          "data": {
            "image/png": "[encoded data removed]",
            "text/plain": [
              "<Figure size 432x288 with 1 Axes>"
            ]
          },
          "metadata": {
            "tags": [],
            "needs_background": "light"
          }
        }
      ]
    },
    {
      "cell_type": "code",
      "metadata": {
        "colab": {
          "base_uri": "https://localhost:8080/",
          "height": 286
        },
        "id": "hvo3JsOnTXc8",
        "outputId": "624a0dea-50cb-4f3b-8cb1-513aa49394e2"
      },
      "source": [
        "model_history[['accuracy','val_accuracy']].plot()"
      ],
      "execution_count": null,
      "outputs": [
        {
          "output_type": "execute_result",
          "data": {
            "text/plain": [
              "<matplotlib.axes._subplots.AxesSubplot at 0x7fbe9187b2b0>"
            ]
          },
          "metadata": {
            "tags": []
          },
          "execution_count": 162
        },
        {
          "output_type": "display_data",
          "data": {
            "image/png": "[encoded data removed]",
            "text/plain": [
              "<Figure size 432x288 with 1 Axes>"
            ]
          },
          "metadata": {
            "tags": [],
            "needs_background": "light"
          }
        }
      ]
    },
    {
      "cell_type": "markdown",
      "metadata": {
        "id": "8NeXgya2UAFZ"
      },
      "source": [
        "##Evaluate"
      ]
    },
    {
      "cell_type": "code",
      "metadata": {
        "colab": {
          "base_uri": "https://localhost:8080/"
        },
        "id": "abJRPaUfUCte",
        "outputId": "fd7ede56-8ba3-4d58-b4f4-5271b51fe26f"
      },
      "source": [
        "min(model_history['val_loss'])"
      ],
      "execution_count": null,
      "outputs": [
        {
          "output_type": "execute_result",
          "data": {
            "text/plain": [
              "0.03646068647503853"
            ]
          },
          "metadata": {
            "tags": []
          },
          "execution_count": 163
        }
      ]
    },
    {
      "cell_type": "code",
      "metadata": {
        "colab": {
          "base_uri": "https://localhost:8080/"
        },
        "id": "0TcJZ8jLYw5Z",
        "outputId": "75b204f8-60ac-462d-f85c-a988a6057db5"
      },
      "source": [
        "classification_model.evaluate(x=test_data, y=test_cat_labels)"
      ],
      "execution_count": null,
      "outputs": [
        {
          "output_type": "stream",
          "text": [
            "313/313 [==============================] - 1s 4ms/step - loss: 0.0301 - accuracy: 0.9915\n"
          ],
          "name": "stdout"
        },
        {
          "output_type": "execute_result",
          "data": {
            "text/plain": [
              "[0.030089465901255608, 0.9915000200271606]"
            ]
          },
          "metadata": {
            "tags": []
          },
          "execution_count": 164
        }
      ]
    },
    {
      "cell_type": "markdown",
      "metadata": {
        "id": "cEYkmgstZFhY"
      },
      "source": [
        "#Report"
      ]
    },
    {
      "cell_type": "markdown",
      "metadata": {
        "id": "mGte7_pEhWTg"
      },
      "source": [
        "##Prediction"
      ]
    },
    {
      "cell_type": "code",
      "metadata": {
        "id": "JJZyWLRuZIP_"
      },
      "source": [
        "from sklearn.metrics import classification_report, confusion_matrix"
      ],
      "execution_count": null,
      "outputs": []
    },
    {
      "cell_type": "code",
      "metadata": {
        "id": "SiZzRz0BZIJK"
      },
      "source": [
        "model_prediction = classification_model.predict(test_data)"
      ],
      "execution_count": null,
      "outputs": []
    },
    {
      "cell_type": "code",
      "metadata": {
        "colab": {
          "base_uri": "https://localhost:8080/"
        },
        "id": "wN3wFMhYZH--",
        "outputId": "30cd3070-96b5-4dc8-adff-6d3d0012addf"
      },
      "source": [
        "model_prediction[-1]"
      ],
      "execution_count": null,
      "outputs": [
        {
          "output_type": "execute_result",
          "data": {
            "text/plain": [
              "array([9.50812975e-08, 2.03825859e-10, 4.45203978e-11, 9.95903157e-17,\n",
              "       1.73307910e-08, 1.16932535e-08, 9.99999881e-01, 4.23922965e-15,\n",
              "       6.46926235e-10, 2.90719770e-12], dtype=float32)"
            ]
          },
          "metadata": {
            "tags": []
          },
          "execution_count": 167
        }
      ]
    },
    {
      "cell_type": "code",
      "metadata": {
        "colab": {
          "base_uri": "https://localhost:8080/"
        },
        "id": "i5k4DWRweqvA",
        "outputId": "39f32e0d-4c5d-4444-a584-68dc15422c43"
      },
      "source": [
        "test_labels[-1]"
      ],
      "execution_count": null,
      "outputs": [
        {
          "output_type": "execute_result",
          "data": {
            "text/plain": [
              "6"
            ]
          },
          "metadata": {
            "tags": []
          },
          "execution_count": 168
        }
      ]
    },
    {
      "cell_type": "markdown",
      "metadata": {
        "id": "rXEHpRnhhd6-"
      },
      "source": [
        "##Confusion_matrix and Classification_reports"
      ]
    },
    {
      "cell_type": "markdown",
      "metadata": {
        "id": "UxH9aFbxfPzO"
      },
      "source": [
        "**Notice: Input of classification_reports and confusion_matrix is not one-Hot**"
      ]
    },
    {
      "cell_type": "code",
      "metadata": {
        "colab": {
          "base_uri": "https://localhost:8080/"
        },
        "id": "kPnH_lYJflin",
        "outputId": "fc120f4c-9933-400b-ee90-3782fa49da59"
      },
      "source": [
        "test_labels.shape"
      ],
      "execution_count": null,
      "outputs": [
        {
          "output_type": "execute_result",
          "data": {
            "text/plain": [
              "(10000,)"
            ]
          },
          "metadata": {
            "tags": []
          },
          "execution_count": 169
        }
      ]
    },
    {
      "cell_type": "code",
      "metadata": {
        "id": "VsYZIKCwfvnx"
      },
      "source": [
        "model_sparse_prediction = np.zeros((test_labels.shape))"
      ],
      "execution_count": null,
      "outputs": []
    },
    {
      "cell_type": "code",
      "metadata": {
        "id": "8_XFeMOxgT-e"
      },
      "source": [
        "model_sparse_prediction = np.argmax(model_prediction,axis=1)"
      ],
      "execution_count": null,
      "outputs": []
    },
    {
      "cell_type": "markdown",
      "metadata": {
        "id": "_UR5ZXf6h9r9"
      },
      "source": [
        "**Check**"
      ]
    },
    {
      "cell_type": "code",
      "metadata": {
        "colab": {
          "base_uri": "https://localhost:8080/"
        },
        "id": "0WM_lKikhDui",
        "outputId": "e513f65c-7874-4687-fe35-d2595d851431"
      },
      "source": [
        "model_sparse_prediction[-1]"
      ],
      "execution_count": null,
      "outputs": [
        {
          "output_type": "execute_result",
          "data": {
            "text/plain": [
              "6"
            ]
          },
          "metadata": {
            "tags": []
          },
          "execution_count": 174
        }
      ]
    },
    {
      "cell_type": "code",
      "metadata": {
        "colab": {
          "base_uri": "https://localhost:8080/"
        },
        "id": "Hr_wXEBbhJf5",
        "outputId": "b659ea45-c54d-4d7e-90ed-d9b368747837"
      },
      "source": [
        "model_prediction[-1]"
      ],
      "execution_count": null,
      "outputs": [
        {
          "output_type": "execute_result",
          "data": {
            "text/plain": [
              "array([9.50812975e-08, 2.03825859e-10, 4.45203978e-11, 9.95903157e-17,\n",
              "       1.73307910e-08, 1.16932535e-08, 9.99999881e-01, 4.23922965e-15,\n",
              "       6.46926235e-10, 2.90719770e-12], dtype=float32)"
            ]
          },
          "metadata": {
            "tags": []
          },
          "execution_count": 175
        }
      ]
    },
    {
      "cell_type": "code",
      "metadata": {
        "colab": {
          "base_uri": "https://localhost:8080/"
        },
        "id": "uu-YmMushMlf",
        "outputId": "3c3078a9-1c37-4f73-fca2-ce40d8d8ded3"
      },
      "source": [
        "test_labels[-1]"
      ],
      "execution_count": null,
      "outputs": [
        {
          "output_type": "execute_result",
          "data": {
            "text/plain": [
              "6"
            ]
          },
          "metadata": {
            "tags": []
          },
          "execution_count": 176
        }
      ]
    },
    {
      "cell_type": "markdown",
      "metadata": {
        "id": "5B2ChxbliE9i"
      },
      "source": [
        "**Classification reports and Confusion Matrix**"
      ]
    },
    {
      "cell_type": "markdown",
      "metadata": {
        "id": "sfBourOsntgw"
      },
      "source": [
        "**Notice: Input of classification_reports and confusion_matrix is not one-Hot**"
      ]
    },
    {
      "cell_type": "code",
      "metadata": {
        "colab": {
          "base_uri": "https://localhost:8080/"
        },
        "id": "KL24Ae8KiOFK",
        "outputId": "ecc434a9-e1c4-4184-8e4f-c77db1989000"
      },
      "source": [
        "print(classification_report(y_true=test_labels, y_pred=model_sparse_prediction))"
      ],
      "execution_count": null,
      "outputs": [
        {
          "output_type": "stream",
          "text": [
            "              precision    recall  f1-score   support\n",
            "\n",
            "           0       0.99      1.00      0.99       980\n",
            "           1       0.99      1.00      0.99      1135\n",
            "           2       0.99      0.99      0.99      1032\n",
            "           3       0.99      0.99      0.99      1010\n",
            "           4       0.99      0.99      0.99       982\n",
            "           5       0.99      0.98      0.99       892\n",
            "           6       0.99      0.99      0.99       958\n",
            "           7       0.99      0.99      0.99      1028\n",
            "           8       0.99      0.99      0.99       974\n",
            "           9       0.99      0.99      0.99      1009\n",
            "\n",
            "    accuracy                           0.99     10000\n",
            "   macro avg       0.99      0.99      0.99     10000\n",
            "weighted avg       0.99      0.99      0.99     10000\n",
            "\n"
          ],
          "name": "stdout"
        }
      ]
    },
    {
      "cell_type": "markdown",
      "metadata": {
        "id": "8iDabIwjoXWu"
      },
      "source": [
        "**Use confusion matrix**"
      ]
    },
    {
      "cell_type": "code",
      "metadata": {
        "colab": {
          "base_uri": "https://localhost:8080/",
          "height": 282
        },
        "id": "u6I_w9zCoKtu",
        "outputId": "d6b7d6c1-3910-4217-a7ac-18ed0ebecf42"
      },
      "source": [
        "confusion_matrix(y_true=test_labels, y_pred=model_sparse_prediction)"
      ],
      "execution_count": null,
      "outputs": [
        {
          "output_type": "execute_result",
          "data": {
            "text/plain": [
              "<matplotlib.image.AxesImage at 0x7fbe90e35b00>"
            ]
          },
          "metadata": {
            "tags": []
          },
          "execution_count": 187
        },
        {
          "output_type": "display_data",
          "data": {
            "image/png": "[encoded data removed]",
            "text/plain": [
              "<Figure size 432x288 with 1 Axes>"
            ]
          },
          "metadata": {
            "tags": [],
            "needs_background": "light"
          }
        }
      ]
    },
    {
      "cell_type": "markdown",
      "metadata": {
        "id": "ZDTk5bzOo0x8"
      },
      "source": [
        "#Predict single image"
      ]
    },
    {
      "cell_type": "code",
      "metadata": {
        "colab": {
          "base_uri": "https://localhost:8080/"
        },
        "id": "abyqoKvGo4Ti",
        "outputId": "ec79b664-eb77-43fa-f15c-0c0988dee34f"
      },
      "source": [
        "classification_model.predict(np.reshape(test_data[0],(1, 28, 28, 1))).argmax()"
      ],
      "execution_count": null,
      "outputs": [
        {
          "output_type": "execute_result",
          "data": {
            "text/plain": [
              "7"
            ]
          },
          "metadata": {
            "tags": []
          },
          "execution_count": 181
        }
      ]
    },
    {
      "cell_type": "code",
      "metadata": {
        "colab": {
          "base_uri": "https://localhost:8080/",
          "height": 282
        },
        "id": "Wf1K_1fgp1sa",
        "outputId": "79174ea1-bdba-4b29-ef13-be35905b11c3"
      },
      "source": [
        "plt.imshow(test_data[0].reshape(28,28))"
      ],
      "execution_count": null,
      "outputs": [
        {
          "output_type": "execute_result",
          "data": {
            "text/plain": [
              "<matplotlib.image.AxesImage at 0x7fbe90e55978>"
            ]
          },
          "metadata": {
            "tags": []
          },
          "execution_count": 186
        },
        {
          "output_type": "display_data",
          "data": {
            "image/png": "[encoded data removed]",
            "text/plain": [
              "<Figure size 432x288 with 1 Axes>"
            ]
          },
          "metadata": {
            "tags": [],
            "needs_background": "light"
          }
        }
      ]
    }
  ]
}